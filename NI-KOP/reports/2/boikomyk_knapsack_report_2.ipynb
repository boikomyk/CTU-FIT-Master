{
 "cells": [
  {
   "cell_type": "markdown",
   "metadata": {},
   "source": [
    "____________________________________________________________________"
   ]
  },
  {
   "cell_type": "markdown",
   "metadata": {},
   "source": [
    "# NI-KOP"
   ]
  },
  {
   "cell_type": "markdown",
   "metadata": {},
   "source": [
    "<p style='text-align: right;'> Author: Mykyta Boiko </p>\n",
    "<p style='text-align: right;'> CTU login: boikomyk </p>"
   ]
  },
  {
   "cell_type": "markdown",
   "metadata": {},
   "source": [
    "## Report #2"
   ]
  },
  {
   "cell_type": "markdown",
   "metadata": {},
   "source": [
    "____________________________________________________________________"
   ]
  },
  {
   "cell_type": "markdown",
   "metadata": {},
   "source": [
    "## 1. Popis alogritmu"
   ]
  },
  {
   "cell_type": "markdown",
   "metadata": {},
   "source": [
    "Dále budou následovat krátké popisy každého použitého algoritmu v experementech:\n",
    "\n",
    "- Brand & Bounds\n",
    "- Dynamic programming (decomposition by weight)\n",
    "- Dynamic programming (decomposition by price)\n",
    "- Greedy\n",
    "- Redux\n",
    "- FPTAS\n",
    "\n",
    "Kazdy algoritmus je již do detailů popsaný a okomentovaný přímo v kódu. Tady budou uvedené pouze krátké popisy."
   ]
  },
  {
   "cell_type": "markdown",
   "metadata": {},
   "source": [
    "### 1.1 Branch & Bounds"
   ]
  },
  {
   "cell_type": "markdown",
   "metadata": {},
   "source": [
    "Tento algoritm už je dobře popsaný v předchozím reportu (a komentáře přímo v kódu)."
   ]
  },
  {
   "cell_type": "markdown",
   "metadata": {},
   "source": [
    "### 1.2 Dynamic programming"
   ]
  },
  {
   "cell_type": "markdown",
   "metadata": {},
   "source": [
    "Hlavní myšlenka **Dynamic Programming** v případě problémů batohu je použití tabulky kam se ukládají řešení všech podproblému (všechny možné hodnoty cen/vah, v závislosti na zvoleném typu dekompozici, které mohou vzninkout při přidání věci do batohu). Pokud v průběhu řešení znovu narážíme na již řešeny podproblém, tak stačí vzít řešení v tabulce, aniž byste podproblém museli znovu řešit.\n",
    "\n",
    "Je třeba poznamenat, že nalezené řešení je vždy optimální, neboť algoritmus vytvoří tabulku pro celý strom všech možných výsledků. Stejně je nutné říct, že algoritmus je pseudopolynomiální, jelikož doba běhu je **O(NW)** nebo **O(N*sum_of_all_items_prices)** pro neomezený problém batohu s **N** položkami a batohem velikosti **W** (**W** však není polynomiální vůči délce vstupu). Což už klidně umožňuje Nám odpovědět na jeden z kladených dotazů, že složitost algoritmu závisí na parametru, který nemá nic společného s velikostí."
   ]
  },
  {
   "cell_type": "markdown",
   "metadata": {},
   "source": [
    "#### 1.2.1 Decomposition by weight"
   ]
  },
  {
   "cell_type": "markdown",
   "metadata": {},
   "source": [
    "V případě dokompozice podle váhy tabulka má nalsedujci parametry:\n",
    "- počet řádku je stejný jako celkový počet věci daný pro danou instanci problémů\n",
    "\n",
    "- počet sloupců je rovný kapacitě/nosnosti batohu (maximlani povolena váha)\n",
    "\n",
    "Jinak řečeno, to znamená, že každý řádek reprezentuje řešení problémů pro počet předmětů, který se rovná indexu řádku. Stejně tak sloupce reprezentují všechny možné výsledky vah (pro všechny kombinace všech správných řešení). Což vede na to, že buňka[i,j] reprezentuje cenu takové kombinace. Finální výsledek je uloženy v posledním řádku (maximální hodnota v posledním řádku).\n",
    "\n",
    "\n",
    "\n",
    "Tabulka se staví následovně: (Zkrácený kód..)\n",
    "```python\n",
    "for item_index in range(items_indexes_rows_cnt + 1):\n",
    "    for capacity_index in range(capacity_columns_cnt + 1):\n",
    "        ...\n",
    "        #  if weight of current item is lower or equal to the remaining knapsack's capacity then\n",
    "        if current_item.weight <= capacity_index:\n",
    "            # return the maximum of two cases:\n",
    "            # - current item included or\n",
    "            # - not included\n",
    "            memory_table[item_index][capacity_index] = max(\n",
    "                current_item.price + memory_table[item_index - 1][capacity_index - current_item.weight],\n",
    "                memory_table[item_index - 1][capacity_index]\n",
    "            )\n",
    "        # otherwise current proceeding item cannot be included\n",
    "        else:\n",
    "            memory_table[item_index][capacity_index] = memory_table[item_index - 1][capacity_index]\n",
    "```"
   ]
  },
  {
   "cell_type": "markdown",
   "metadata": {},
   "source": [
    "#### 1.2.2 Decomposition by price"
   ]
  },
  {
   "cell_type": "markdown",
   "metadata": {},
   "source": [
    "V podstatě přístup k řešení je skoro ten samy, avšak je nutné poznamenat další důležité rozdíly.\n",
    "Tabulka má nalsedujci parametry:\n",
    "\n",
    "- počet řádku je stejný jako celkový počet věci daný pro danou instanci problémů\n",
    "\n",
    "- počet sloupců je rovný sumě cen všech věci daně instance problému.\n",
    "\n",
    "Finální výsledek je zase uloženy v posledním řádku (maximální hodnota, avšak je nutné aby byla splněna podmínka: *hodnota_buňky <= knapsack_capacity*)\n",
    "\n",
    "Tabulka se staví zase následovně: (Zkrácený kód..):\n",
    "```python\n",
    "for knapsack_current_price in range(2, items_total_sum + 1):\n",
    "    for item_index in range(1, items_total_count + 1):\n",
    "        ...\n",
    "\n",
    "        index = knapsack_current_price - current_item.price\n",
    "        if index < 0:\n",
    "            # if index is negative, the weight remains the same\n",
    "            memory_table[knapsack_current_price][item_index] = previous_weight\n",
    "        else:\n",
    "            # otherwise\n",
    "            # resolve weight to add (zero or weight of current proceeding item)\n",
    "            weight_to_add = current_item.weight if memory_table[index][item_index - 1] != infinity else 0\n",
    "            # W(c, i) = min(W(c, i - 1), W(c, i - 1 ) + w_c) for any c > 0\n",
    "            memory_table[knapsack_current_price][item_index] = min(previous_weight, memory_table[index][item_index - 1] + weight_to_add)\n",
    "```"
   ]
  },
  {
   "cell_type": "markdown",
   "metadata": {},
   "source": [
    "### 1.3 Greedy"
   ]
  },
  {
   "cell_type": "markdown",
   "metadata": {},
   "source": [
    "Hlavni myslenka **Greedy** pristupu k reseni je super jednoducha: seřadit všechny veci sestupně podle jejich poměru: $$ poměr = \\frac{cena}{vaha} $$\n",
    "\n",
    "a přidávat veci postupně, dokud není batoh plný. \n",
    "\n",
    "Je nejrychlejší metodou pro řešení batohu, její složitost závisí na složitosti použitého řazení (zpravidla je **O(nlogn)**).\n",
    "\n",
    "Ale není zandá 100% garance, že nalezené řešení bude optimální, neboť třeba pouze jedna věc s maximální cenou a zároveň vahou může být řešením, ale kvůli nízkému poměru nejspíš bude ignorována algoritmem. (Tento případ řeší modifikace **Redux**, která bude popsána trošku dál)\n",
    "\n",
    "U tohoto algoritmu je nutné zavést další pojem: **Relativní chyba**, která se vypočítá následovně:\n",
    "$$\n",
    "    chyba = \\frac{|cena_{řešení} - cena_{reference}|}{max(cena_{řešení}, cena_{reference})}\n",
    "$$"
   ]
  },
  {
   "cell_type": "markdown",
   "metadata": {},
   "source": [
    "### 1.4 Redux"
   ]
  },
  {
   "cell_type": "markdown",
   "metadata": {},
   "source": [
    "**Redux** je vylepšením(/modifikace) předchozí heuristiky (vlastně řeší ten případ s jednou věci s maximální cenou a vahou).\n",
    "\n",
    "Nejdřív pro danou instanci nalezneme řešení popsanou **Greedy** heuristikou. Pak vytvoříme další batoh s jednou nejrdazsi věci a porovnáme obě řešení. Lepší z těchto řešení (s větší cenou nebo stejnou cenou ale menší vahou) je pak řešením finálním."
   ]
  },
  {
   "cell_type": "markdown",
   "metadata": {},
   "source": [
    "### 1.5 FPTAS"
   ]
  },
  {
   "cell_type": "markdown",
   "metadata": {},
   "source": [
    "Hlavní myšlenka algoritmu, v kominaci s **Dynamic programming s dekompozici podle ceny**, je snížení celkového prostoru pro prohledávání za předpokladu toho, že dovolujeme algoritmu dělat chyby.\n",
    "\n",
    "Zavádíme maximální relativní chybu pro algoritmus a zmenšujeme sumu cen všech věci daného problémů, tím vlastně zmenšujeme velikost tabulky (kde, je nutné připomenout, počet sloupců je rovný sumě cen všech věci). Což vede na to, že suboptimální řešení bude nalezeno výrazně rychleji.\n",
    "\n",
    "Takhle se modifikují věci, před tím jak řešit instanci pomoci Dynamic programmingu: (Zkrácený kód..):\n",
    "\n",
    "```python\n",
    "# resolve knapsack item with greatest price\n",
    "max_price = max(item.price for item in knapsack_modified.items_list)\n",
    "# calculate the denominator: K = (eps * C_M) / items_cnt\n",
    "K = (error * max_price) / len(knapsack_modified.items_list)\n",
    "# than build a modified items version: decrease prices\n",
    "for modified_item in knapsack_modified.items_list:\n",
    "    modified_item.price = int(modified_item.price / K)\n",
    "\n",
    "# than modify knapsack object\n",
    "knapsack_modified.min_req_price = int(knapsack_modified.min_req_price / K)\n",
    "# solve modified knapsack instance with dynamic programming with decomposition by price\n",
    "configurations_cnt, solution = Resolver.dynamic_programming_decomposition_by_price(\n",
    "    knapsack=knapsack_modified\n",
    ")\n",
    "\n",
    "```"
   ]
  },
  {
   "cell_type": "markdown",
   "metadata": {},
   "source": [
    "## 2. Předzpracování a načítání dát"
   ]
  },
  {
   "cell_type": "markdown",
   "metadata": {},
   "source": [
    "Ted se pustíme do části načítání a předzpracování našich dát.\n",
    "Pro experimenty a příslušné měření vybereme následující sady dát: *NK4, NK10, NK15, NK20, NK25*"
   ]
  },
  {
   "cell_type": "markdown",
   "metadata": {},
   "source": [
    "Rychlé připomeňme jak se spouští Nás program.\n",
    "```python\n",
    "usage: main.py [-h] [-cnt COUNT] [-in INPUT] [-ref REFERENCE] [-err ERROR] [-b]\n",
    "               {Brute Force,Branch & Bounds,Dynamic Programming decomposition by weight),Dynamic Programming (decomposition by\n",
    "               price,Greedy,Redux,FPTAS}\n",
    "\n",
    "Process input problem instances.\n",
    "\n",
    "positional arguments:\n",
    "  {Brute Force,Branch & Bounds,Dynamic Programming (decomposition by weight),Dynamic Programming (decomposition by price),Greedy,Redux,FPTAS}\n",
    "\n",
    "optional arguments:\n",
    "  -h, --help            show this help message and exit\n",
    "  -cnt COUNT, --count COUNT\n",
    "  -in INPUT, --input INPUT\n",
    "                        paste path to input files\n",
    "  -ref REFERENCE, --reference REFERENCE\n",
    "                        paste path with references\n",
    "  -err ERROR, --error ERROR\n",
    "                        relative error\n",
    "  -b, --benchmark       turn on/off benchmark\n",
    "```\n",
    "\n",
    "Stejně uvedeme příklad spouštění:\n",
    "```python\n",
    "python3.9 main.py fptas -cnt=1 -in=data/task_2/NK/NK15_inst.dat -ref=data/task_2/NK/ --err=0.01 --b\n",
    "```"
   ]
  },
  {
   "cell_type": "code",
   "execution_count": 241,
   "metadata": {},
   "outputs": [],
   "source": [
    "# provide required imports\n",
    "import pandas as pd\n",
    "import numpy as np\n",
    "import matplotlib\n",
    "import matplotlib.pyplot as plt\n",
    "%matplotlib inline\n",
    "\n",
    "from typing import List"
   ]
  },
  {
   "cell_type": "code",
   "execution_count": 137,
   "metadata": {},
   "outputs": [],
   "source": [
    "# prepare help functions for data predprocessing\n",
    "def read_and_store_csv_input_to_df(path_to_csv: str, algorithm: str, instance_size: int, accuracy_value = None):\n",
    "    # read csv input\n",
    "    df = pd.read_csv(path_to_csv, delimiter=\"\\t\", index_col=False)\n",
    "    # set additinial columns\n",
    "    df['INSTANCE_SIZE'] = instance_size\n",
    "    df['ALGORITHM'] = algorithm\n",
    "    if accuracy_value:\n",
    "        df['ACCURACY_VALUE'] = accuracy_value\n",
    "    return df"
   ]
  },
  {
   "cell_type": "code",
   "execution_count": 138,
   "metadata": {},
   "outputs": [],
   "source": [
    "# define required vars\n",
    "\n",
    "# constants representing paths to algorithms csv outputs\n",
    "PATH_TO_CSV_OUTPUTS = 'measures/NK/' # all, but excluding fptas\n",
    "PATH_TO_CSV_OUTPUTS_FPTAS = 'measures/NK/fptas'\n",
    "\n",
    "ALGORITHMS = {\n",
    "    'bb'    : 'Branch & Bounds',\n",
    "    'dp_dw' : 'Dynamic Programming (decomposition by weight)',\n",
    "    'dp_dp' : 'Dynamic Programming (decomposition by price)',\n",
    "    'greedy': 'Greedy',\n",
    "    'redux' : 'Redux',\n",
    "    'fptas' : 'FPTAS'\n",
    "}\n",
    "\n",
    "INSTANCES_SIZES = [\n",
    "    4,\n",
    "    10,\n",
    "    15,\n",
    "    20,\n",
    "    25\n",
    "]\n",
    "\n",
    "ACCURACY_VALUES = [\n",
    "    0.1,\n",
    "    0.4,\n",
    "    0.7\n",
    "]"
   ]
  },
  {
   "cell_type": "code",
   "execution_count": 155,
   "metadata": {},
   "outputs": [],
   "source": [
    "# prepare storage for algorithms outputs\n",
    "algorithms_outputs = {}\n",
    "\n",
    "# read and proceed early prepared csv files containing outputs\n",
    "for algorithm in ALGORITHMS.keys():\n",
    "    algorithms_outputs[algorithm] = []\n",
    "    \n",
    "    for instance_size in INSTANCES_SIZES:\n",
    "\n",
    "        if algorithm == 'fptas':\n",
    "            for accuracy_value in ACCURACY_VALUES:\n",
    "                df = read_and_store_csv_input_to_df(\n",
    "                    path_to_csv=f'{PATH_TO_CSV_OUTPUTS_FPTAS}/{algorithm}-{instance_size}-measures-err-{accuracy_value}.csv',\n",
    "                    algorithm=algorithm,\n",
    "                    instance_size=instance_size,\n",
    "                    accuracy_value=accuracy_value\n",
    "                )\n",
    "                algorithms_outputs[algorithm].append(df)\n",
    "                \n",
    "        else:\n",
    "            df = read_and_store_csv_input_to_df(\n",
    "                path_to_csv=f'{PATH_TO_CSV_OUTPUTS}/{algorithm}-{instance_size}-measures.csv',\n",
    "                algorithm=algorithm,\n",
    "                instance_size=instance_size\n",
    "            )\n",
    "            algorithms_outputs[algorithm].append(df)\n",
    "        \n",
    "    # concatenate all dataframes of certain alogrithm to single dataframe\n",
    "    algorithms_outputs[algorithm] = pd.concat(algorithms_outputs[algorithm]).reset_index()"
   ]
  },
  {
   "cell_type": "code",
   "execution_count": 141,
   "metadata": {},
   "outputs": [
    {
     "data": {
      "text/html": [
       "<div>\n",
       "<style scoped>\n",
       "    .dataframe tbody tr th:only-of-type {\n",
       "        vertical-align: middle;\n",
       "    }\n",
       "\n",
       "    .dataframe tbody tr th {\n",
       "        vertical-align: top;\n",
       "    }\n",
       "\n",
       "    .dataframe thead th {\n",
       "        text-align: right;\n",
       "    }\n",
       "</style>\n",
       "<table border=\"1\" class=\"dataframe\">\n",
       "  <thead>\n",
       "    <tr style=\"text-align: right;\">\n",
       "      <th></th>\n",
       "      <th>index</th>\n",
       "      <th>STEPS</th>\n",
       "      <th>TIME[ms]</th>\n",
       "      <th>ERROR</th>\n",
       "      <th>INSTANCE_SIZE</th>\n",
       "      <th>ALGORITHM</th>\n",
       "      <th>ACCURACY_VALUE</th>\n",
       "    </tr>\n",
       "  </thead>\n",
       "  <tbody>\n",
       "    <tr>\n",
       "      <th>6492</th>\n",
       "      <td>492</td>\n",
       "      <td>11850</td>\n",
       "      <td>7562.987</td>\n",
       "      <td>0.000000</td>\n",
       "      <td>25</td>\n",
       "      <td>fptas</td>\n",
       "      <td>0.1</td>\n",
       "    </tr>\n",
       "    <tr>\n",
       "      <th>5081</th>\n",
       "      <td>81</td>\n",
       "      <td>6600</td>\n",
       "      <td>4308.566</td>\n",
       "      <td>0.000000</td>\n",
       "      <td>20</td>\n",
       "      <td>fptas</td>\n",
       "      <td>0.4</td>\n",
       "    </tr>\n",
       "    <tr>\n",
       "      <th>2961</th>\n",
       "      <td>461</td>\n",
       "      <td>810</td>\n",
       "      <td>607.420</td>\n",
       "      <td>0.000000</td>\n",
       "      <td>10</td>\n",
       "      <td>fptas</td>\n",
       "      <td>0.7</td>\n",
       "    </tr>\n",
       "    <tr>\n",
       "      <th>6180</th>\n",
       "      <td>180</td>\n",
       "      <td>12675</td>\n",
       "      <td>8231.245</td>\n",
       "      <td>0.000000</td>\n",
       "      <td>25</td>\n",
       "      <td>fptas</td>\n",
       "      <td>0.1</td>\n",
       "    </tr>\n",
       "    <tr>\n",
       "      <th>5991</th>\n",
       "      <td>491</td>\n",
       "      <td>5120</td>\n",
       "      <td>3487.997</td>\n",
       "      <td>0.006469</td>\n",
       "      <td>20</td>\n",
       "      <td>fptas</td>\n",
       "      <td>0.7</td>\n",
       "    </tr>\n",
       "    <tr>\n",
       "      <th>98</th>\n",
       "      <td>98</td>\n",
       "      <td>64</td>\n",
       "      <td>130.642</td>\n",
       "      <td>0.000000</td>\n",
       "      <td>4</td>\n",
       "      <td>fptas</td>\n",
       "      <td>0.1</td>\n",
       "    </tr>\n",
       "    <tr>\n",
       "      <th>477</th>\n",
       "      <td>477</td>\n",
       "      <td>56</td>\n",
       "      <td>96.567</td>\n",
       "      <td>0.000000</td>\n",
       "      <td>4</td>\n",
       "      <td>fptas</td>\n",
       "      <td>0.1</td>\n",
       "    </tr>\n",
       "    <tr>\n",
       "      <th>4818</th>\n",
       "      <td>318</td>\n",
       "      <td>4680</td>\n",
       "      <td>3114.924</td>\n",
       "      <td>0.002544</td>\n",
       "      <td>20</td>\n",
       "      <td>fptas</td>\n",
       "      <td>0.1</td>\n",
       "    </tr>\n",
       "    <tr>\n",
       "      <th>673</th>\n",
       "      <td>173</td>\n",
       "      <td>28</td>\n",
       "      <td>84.039</td>\n",
       "      <td>1.000000</td>\n",
       "      <td>4</td>\n",
       "      <td>fptas</td>\n",
       "      <td>0.4</td>\n",
       "    </tr>\n",
       "    <tr>\n",
       "      <th>2556</th>\n",
       "      <td>56</td>\n",
       "      <td>640</td>\n",
       "      <td>502.719</td>\n",
       "      <td>0.000000</td>\n",
       "      <td>10</td>\n",
       "      <td>fptas</td>\n",
       "      <td>0.7</td>\n",
       "    </tr>\n",
       "  </tbody>\n",
       "</table>\n",
       "</div>"
      ],
      "text/plain": [
       "      index  STEPS  TIME[ms]     ERROR  INSTANCE_SIZE ALGORITHM  \\\n",
       "6492    492  11850  7562.987  0.000000             25     fptas   \n",
       "5081     81   6600  4308.566  0.000000             20     fptas   \n",
       "2961    461    810   607.420  0.000000             10     fptas   \n",
       "6180    180  12675  8231.245  0.000000             25     fptas   \n",
       "5991    491   5120  3487.997  0.006469             20     fptas   \n",
       "98       98     64   130.642  0.000000              4     fptas   \n",
       "477     477     56    96.567  0.000000              4     fptas   \n",
       "4818    318   4680  3114.924  0.002544             20     fptas   \n",
       "673     173     28    84.039  1.000000              4     fptas   \n",
       "2556     56    640   502.719  0.000000             10     fptas   \n",
       "\n",
       "      ACCURACY_VALUE  \n",
       "6492             0.1  \n",
       "5081             0.4  \n",
       "2961             0.7  \n",
       "6180             0.1  \n",
       "5991             0.7  \n",
       "98               0.1  \n",
       "477              0.1  \n",
       "4818             0.1  \n",
       "673              0.4  \n",
       "2556             0.7  "
      ]
     },
     "execution_count": 141,
     "metadata": {},
     "output_type": "execute_result"
    }
   ],
   "source": [
    "# Let's display random 10 rows from fptas outputs, to make sure, that csv files were proceeded correctly\n",
    "algorithms_outputs['fptas'].sample(10)"
   ]
  },
  {
   "cell_type": "markdown",
   "metadata": {},
   "source": [
    "Máme úspěšně načtena data. Ted si nadefinujeme vlastní univerzální funkci pro analýzu dát a pak se klidně můžeme pustit přímo do analýzy."
   ]
  },
  {
   "cell_type": "code",
   "execution_count": 180,
   "metadata": {},
   "outputs": [],
   "source": [
    "def display_basic_dataframe_analyse(\n",
    "    df_data: pd.DataFrame,\n",
    "    additional_values_to_analyze: List[str] = [],\n",
    "    additional_indexes: List[str] = []\n",
    "):\n",
    "    # default values to analyze: STEPS and TIME    \n",
    "    values = ['STEPS', 'TIME[ms]', 'ERROR'] + additional_values_to_analyze\n",
    "    # default indexes: ALGORITHM and INSTANCE_SIZE\n",
    "    indexes = ['ALGORITHM', 'INSTANCE_SIZE'] + additional_indexes\n",
    "    # default funcs to execute on values: min, mean, max and standard deviation\n",
    "    funcs = [np.min, np.mean, np.max, np.std]\n",
    "    \n",
    "    statistics_for_algorithms = ''\n",
    "    for algorithm_key in df_data['ALGORITHM'].unique():\n",
    "        statistics_for_algorithms += f', {ALGORITHMS[algorithm_key]}' if len(statistics_for_algorithms) else ALGORITHMS[algorithm_key]\n",
    "\n",
    "    print(f\"=\"*100)\n",
    "    print(f\"{statistics_for_algorithms} algorithm: \")\n",
    "\n",
    "    display(pd.pivot_table(\n",
    "        data=df_data,\n",
    "        values=values,\n",
    "        index=indexes,\n",
    "        aggfunc={value: funcs for value in values}\n",
    "    ))\n",
    "    print(f\"=\"*100)"
   ]
  },
  {
   "cell_type": "markdown",
   "metadata": {},
   "source": [
    "## 3. Analýza a interpretace dat"
   ]
  },
  {
   "cell_type": "markdown",
   "metadata": {},
   "source": [
    "### 3.1 Branch & Bounds"
   ]
  },
  {
   "cell_type": "code",
   "execution_count": 144,
   "metadata": {},
   "outputs": [
    {
     "name": "stdout",
     "output_type": "stream",
     "text": [
      "====================================================================================================\n",
      "Branch & Bounds algorithm: \n"
     ]
    },
    {
     "data": {
      "text/html": [
       "<div>\n",
       "<style scoped>\n",
       "    .dataframe tbody tr th:only-of-type {\n",
       "        vertical-align: middle;\n",
       "    }\n",
       "\n",
       "    .dataframe tbody tr th {\n",
       "        vertical-align: top;\n",
       "    }\n",
       "\n",
       "    .dataframe thead tr th {\n",
       "        text-align: left;\n",
       "    }\n",
       "\n",
       "    .dataframe thead tr:last-of-type th {\n",
       "        text-align: right;\n",
       "    }\n",
       "</style>\n",
       "<table border=\"1\" class=\"dataframe\">\n",
       "  <thead>\n",
       "    <tr>\n",
       "      <th></th>\n",
       "      <th></th>\n",
       "      <th colspan=\"4\" halign=\"left\">ERROR</th>\n",
       "      <th colspan=\"4\" halign=\"left\">STEPS</th>\n",
       "      <th colspan=\"4\" halign=\"left\">TIME[ms]</th>\n",
       "    </tr>\n",
       "    <tr>\n",
       "      <th></th>\n",
       "      <th></th>\n",
       "      <th>amax</th>\n",
       "      <th>amin</th>\n",
       "      <th>mean</th>\n",
       "      <th>std</th>\n",
       "      <th>amax</th>\n",
       "      <th>amin</th>\n",
       "      <th>mean</th>\n",
       "      <th>std</th>\n",
       "      <th>amax</th>\n",
       "      <th>amin</th>\n",
       "      <th>mean</th>\n",
       "      <th>std</th>\n",
       "    </tr>\n",
       "    <tr>\n",
       "      <th>ALGORITHM</th>\n",
       "      <th>INSTANCE_SIZE</th>\n",
       "      <th></th>\n",
       "      <th></th>\n",
       "      <th></th>\n",
       "      <th></th>\n",
       "      <th></th>\n",
       "      <th></th>\n",
       "      <th></th>\n",
       "      <th></th>\n",
       "      <th></th>\n",
       "      <th></th>\n",
       "      <th></th>\n",
       "      <th></th>\n",
       "    </tr>\n",
       "  </thead>\n",
       "  <tbody>\n",
       "    <tr>\n",
       "      <th rowspan=\"5\" valign=\"top\">bb</th>\n",
       "      <th>4</th>\n",
       "      <td>0.0</td>\n",
       "      <td>0.0</td>\n",
       "      <td>0.0</td>\n",
       "      <td>0.0</td>\n",
       "      <td>12.0</td>\n",
       "      <td>1.0</td>\n",
       "      <td>5.624</td>\n",
       "      <td>1.660162</td>\n",
       "      <td>366.228</td>\n",
       "      <td>10.057</td>\n",
       "      <td>26.916506</td>\n",
       "      <td>16.978612</td>\n",
       "    </tr>\n",
       "    <tr>\n",
       "      <th>10</th>\n",
       "      <td>0.0</td>\n",
       "      <td>0.0</td>\n",
       "      <td>0.0</td>\n",
       "      <td>0.0</td>\n",
       "      <td>220.0</td>\n",
       "      <td>1.0</td>\n",
       "      <td>45.480</td>\n",
       "      <td>32.571943</td>\n",
       "      <td>986.995</td>\n",
       "      <td>8.957</td>\n",
       "      <td>163.668658</td>\n",
       "      <td>115.350458</td>\n",
       "    </tr>\n",
       "    <tr>\n",
       "      <th>15</th>\n",
       "      <td>0.0</td>\n",
       "      <td>0.0</td>\n",
       "      <td>0.0</td>\n",
       "      <td>0.0</td>\n",
       "      <td>1929.0</td>\n",
       "      <td>8.0</td>\n",
       "      <td>259.440</td>\n",
       "      <td>264.984596</td>\n",
       "      <td>6665.111</td>\n",
       "      <td>37.586</td>\n",
       "      <td>907.505354</td>\n",
       "      <td>936.983838</td>\n",
       "    </tr>\n",
       "    <tr>\n",
       "      <th>20</th>\n",
       "      <td>0.0</td>\n",
       "      <td>0.0</td>\n",
       "      <td>0.0</td>\n",
       "      <td>0.0</td>\n",
       "      <td>14291.0</td>\n",
       "      <td>1.0</td>\n",
       "      <td>1597.742</td>\n",
       "      <td>1902.197535</td>\n",
       "      <td>49899.721</td>\n",
       "      <td>19.323</td>\n",
       "      <td>6241.192244</td>\n",
       "      <td>7526.919542</td>\n",
       "    </tr>\n",
       "    <tr>\n",
       "      <th>25</th>\n",
       "      <td>0.0</td>\n",
       "      <td>0.0</td>\n",
       "      <td>0.0</td>\n",
       "      <td>0.0</td>\n",
       "      <td>129550.0</td>\n",
       "      <td>4.0</td>\n",
       "      <td>7973.566</td>\n",
       "      <td>12108.024599</td>\n",
       "      <td>583647.142</td>\n",
       "      <td>35.734</td>\n",
       "      <td>35010.976852</td>\n",
       "      <td>55210.389141</td>\n",
       "    </tr>\n",
       "  </tbody>\n",
       "</table>\n",
       "</div>"
      ],
      "text/plain": [
       "                        ERROR                    STEPS                 \\\n",
       "                         amax amin mean  std      amax amin      mean   \n",
       "ALGORITHM INSTANCE_SIZE                                                 \n",
       "bb        4               0.0  0.0  0.0  0.0      12.0  1.0     5.624   \n",
       "          10              0.0  0.0  0.0  0.0     220.0  1.0    45.480   \n",
       "          15              0.0  0.0  0.0  0.0    1929.0  8.0   259.440   \n",
       "          20              0.0  0.0  0.0  0.0   14291.0  1.0  1597.742   \n",
       "          25              0.0  0.0  0.0  0.0  129550.0  4.0  7973.566   \n",
       "\n",
       "                                         TIME[ms]                        \\\n",
       "                                  std        amax    amin          mean   \n",
       "ALGORITHM INSTANCE_SIZE                                                   \n",
       "bb        4                  1.660162     366.228  10.057     26.916506   \n",
       "          10                32.571943     986.995   8.957    163.668658   \n",
       "          15               264.984596    6665.111  37.586    907.505354   \n",
       "          20              1902.197535   49899.721  19.323   6241.192244   \n",
       "          25             12108.024599  583647.142  35.734  35010.976852   \n",
       "\n",
       "                                       \n",
       "                                  std  \n",
       "ALGORITHM INSTANCE_SIZE                \n",
       "bb        4                 16.978612  \n",
       "          10               115.350458  \n",
       "          15               936.983838  \n",
       "          20              7526.919542  \n",
       "          25             55210.389141  "
      ]
     },
     "metadata": {},
     "output_type": "display_data"
    },
    {
     "name": "stdout",
     "output_type": "stream",
     "text": [
      "====================================================================================================\n"
     ]
    }
   ],
   "source": [
    "display_basic_dataframe_analyse(df_data=algorithms_outputs['bb'])"
   ]
  },
  {
   "cell_type": "markdown",
   "metadata": {},
   "source": [
    "Algoritmus, analýza měření a výsledků již byly dopodrobna popsané v prvním reportu.\n",
    "\n",
    "Ted stojí za zmínku jen to, že algoritmus má exponenciální složitost a závislost na konkrétních instancích. Důkazem toho třeba je velký rozdíl mezi průměrnou a maximální hodnotou počtu kroku.\n",
    "Například u instanci velikosti **20** průměr je *1597.742*, avšak maximální hodnota počtu kroku je *14291.0*, což je skoro o *9*-krať větší.\n",
    "\n",
    "Stejně tak algoritmus je velmi citlivý na instance s věcmi s podobným poměrem cena/váha, kde optimalizační kritérium stavový prostor prořezává nedostatečně a složitost velmi rychle roste. Nalezené řešení je vždy optimální, maximální hodnota chyby je nulová."
   ]
  },
  {
   "cell_type": "markdown",
   "metadata": {},
   "source": [
    "### 3.2 Dynamic Programming (Decomposition by weight & price)"
   ]
  },
  {
   "cell_type": "code",
   "execution_count": 145,
   "metadata": {},
   "outputs": [
    {
     "name": "stdout",
     "output_type": "stream",
     "text": [
      "====================================================================================================\n",
      "Dynamic Programming (decomposition by weight) algorithm: \n"
     ]
    },
    {
     "data": {
      "text/html": [
       "<div>\n",
       "<style scoped>\n",
       "    .dataframe tbody tr th:only-of-type {\n",
       "        vertical-align: middle;\n",
       "    }\n",
       "\n",
       "    .dataframe tbody tr th {\n",
       "        vertical-align: top;\n",
       "    }\n",
       "\n",
       "    .dataframe thead tr th {\n",
       "        text-align: left;\n",
       "    }\n",
       "\n",
       "    .dataframe thead tr:last-of-type th {\n",
       "        text-align: right;\n",
       "    }\n",
       "</style>\n",
       "<table border=\"1\" class=\"dataframe\">\n",
       "  <thead>\n",
       "    <tr>\n",
       "      <th></th>\n",
       "      <th></th>\n",
       "      <th colspan=\"4\" halign=\"left\">ERROR</th>\n",
       "      <th colspan=\"4\" halign=\"left\">STEPS</th>\n",
       "      <th colspan=\"4\" halign=\"left\">TIME[ms]</th>\n",
       "    </tr>\n",
       "    <tr>\n",
       "      <th></th>\n",
       "      <th></th>\n",
       "      <th>amax</th>\n",
       "      <th>amin</th>\n",
       "      <th>mean</th>\n",
       "      <th>std</th>\n",
       "      <th>amax</th>\n",
       "      <th>amin</th>\n",
       "      <th>mean</th>\n",
       "      <th>std</th>\n",
       "      <th>amax</th>\n",
       "      <th>amin</th>\n",
       "      <th>mean</th>\n",
       "      <th>std</th>\n",
       "    </tr>\n",
       "    <tr>\n",
       "      <th>ALGORITHM</th>\n",
       "      <th>INSTANCE_SIZE</th>\n",
       "      <th></th>\n",
       "      <th></th>\n",
       "      <th></th>\n",
       "      <th></th>\n",
       "      <th></th>\n",
       "      <th></th>\n",
       "      <th></th>\n",
       "      <th></th>\n",
       "      <th></th>\n",
       "      <th></th>\n",
       "      <th></th>\n",
       "      <th></th>\n",
       "    </tr>\n",
       "  </thead>\n",
       "  <tbody>\n",
       "    <tr>\n",
       "      <th rowspan=\"5\" valign=\"top\">dp_dw</th>\n",
       "      <th>4</th>\n",
       "      <td>0.0</td>\n",
       "      <td>0.0</td>\n",
       "      <td>0.0</td>\n",
       "      <td>0.0</td>\n",
       "      <td>3690.0</td>\n",
       "      <td>10.0</td>\n",
       "      <td>1229.550</td>\n",
       "      <td>769.331196</td>\n",
       "      <td>2010.594</td>\n",
       "      <td>9.150</td>\n",
       "      <td>515.788654</td>\n",
       "      <td>363.017824</td>\n",
       "    </tr>\n",
       "    <tr>\n",
       "      <th>10</th>\n",
       "      <td>0.0</td>\n",
       "      <td>0.0</td>\n",
       "      <td>0.0</td>\n",
       "      <td>0.0</td>\n",
       "      <td>19756.0</td>\n",
       "      <td>11.0</td>\n",
       "      <td>6725.466</td>\n",
       "      <td>4024.944172</td>\n",
       "      <td>10742.914</td>\n",
       "      <td>16.918</td>\n",
       "      <td>3702.496920</td>\n",
       "      <td>2399.002491</td>\n",
       "    </tr>\n",
       "    <tr>\n",
       "      <th>15</th>\n",
       "      <td>0.0</td>\n",
       "      <td>0.0</td>\n",
       "      <td>0.0</td>\n",
       "      <td>0.0</td>\n",
       "      <td>36112.0</td>\n",
       "      <td>128.0</td>\n",
       "      <td>15327.456</td>\n",
       "      <td>8914.713796</td>\n",
       "      <td>20003.144</td>\n",
       "      <td>69.241</td>\n",
       "      <td>8470.421908</td>\n",
       "      <td>5197.601250</td>\n",
       "    </tr>\n",
       "    <tr>\n",
       "      <th>20</th>\n",
       "      <td>0.0</td>\n",
       "      <td>0.0</td>\n",
       "      <td>0.0</td>\n",
       "      <td>0.0</td>\n",
       "      <td>62475.0</td>\n",
       "      <td>42.0</td>\n",
       "      <td>27838.902</td>\n",
       "      <td>15826.930567</td>\n",
       "      <td>36632.905</td>\n",
       "      <td>35.468</td>\n",
       "      <td>15920.741664</td>\n",
       "      <td>9440.883398</td>\n",
       "    </tr>\n",
       "    <tr>\n",
       "      <th>25</th>\n",
       "      <td>0.0</td>\n",
       "      <td>0.0</td>\n",
       "      <td>0.0</td>\n",
       "      <td>0.0</td>\n",
       "      <td>96720.0</td>\n",
       "      <td>234.0</td>\n",
       "      <td>40284.348</td>\n",
       "      <td>23053.287459</td>\n",
       "      <td>58337.457</td>\n",
       "      <td>103.172</td>\n",
       "      <td>23184.375556</td>\n",
       "      <td>13797.329423</td>\n",
       "    </tr>\n",
       "  </tbody>\n",
       "</table>\n",
       "</div>"
      ],
      "text/plain": [
       "                        ERROR                   STEPS                    \\\n",
       "                         amax amin mean  std     amax   amin       mean   \n",
       "ALGORITHM INSTANCE_SIZE                                                   \n",
       "dp_dw     4               0.0  0.0  0.0  0.0   3690.0   10.0   1229.550   \n",
       "          10              0.0  0.0  0.0  0.0  19756.0   11.0   6725.466   \n",
       "          15              0.0  0.0  0.0  0.0  36112.0  128.0  15327.456   \n",
       "          20              0.0  0.0  0.0  0.0  62475.0   42.0  27838.902   \n",
       "          25              0.0  0.0  0.0  0.0  96720.0  234.0  40284.348   \n",
       "\n",
       "                                        TIME[ms]                         \\\n",
       "                                  std       amax     amin          mean   \n",
       "ALGORITHM INSTANCE_SIZE                                                   \n",
       "dp_dw     4                769.331196   2010.594    9.150    515.788654   \n",
       "          10              4024.944172  10742.914   16.918   3702.496920   \n",
       "          15              8914.713796  20003.144   69.241   8470.421908   \n",
       "          20             15826.930567  36632.905   35.468  15920.741664   \n",
       "          25             23053.287459  58337.457  103.172  23184.375556   \n",
       "\n",
       "                                       \n",
       "                                  std  \n",
       "ALGORITHM INSTANCE_SIZE                \n",
       "dp_dw     4                363.017824  \n",
       "          10              2399.002491  \n",
       "          15              5197.601250  \n",
       "          20              9440.883398  \n",
       "          25             13797.329423  "
      ]
     },
     "metadata": {},
     "output_type": "display_data"
    },
    {
     "name": "stdout",
     "output_type": "stream",
     "text": [
      "====================================================================================================\n",
      "====================================================================================================\n",
      "Dynamic Programming (decomposition by price) algorithm: \n"
     ]
    },
    {
     "data": {
      "text/html": [
       "<div>\n",
       "<style scoped>\n",
       "    .dataframe tbody tr th:only-of-type {\n",
       "        vertical-align: middle;\n",
       "    }\n",
       "\n",
       "    .dataframe tbody tr th {\n",
       "        vertical-align: top;\n",
       "    }\n",
       "\n",
       "    .dataframe thead tr th {\n",
       "        text-align: left;\n",
       "    }\n",
       "\n",
       "    .dataframe thead tr:last-of-type th {\n",
       "        text-align: right;\n",
       "    }\n",
       "</style>\n",
       "<table border=\"1\" class=\"dataframe\">\n",
       "  <thead>\n",
       "    <tr>\n",
       "      <th></th>\n",
       "      <th></th>\n",
       "      <th colspan=\"4\" halign=\"left\">ERROR</th>\n",
       "      <th colspan=\"4\" halign=\"left\">STEPS</th>\n",
       "      <th colspan=\"4\" halign=\"left\">TIME[ms]</th>\n",
       "    </tr>\n",
       "    <tr>\n",
       "      <th></th>\n",
       "      <th></th>\n",
       "      <th>amax</th>\n",
       "      <th>amin</th>\n",
       "      <th>mean</th>\n",
       "      <th>std</th>\n",
       "      <th>amax</th>\n",
       "      <th>amin</th>\n",
       "      <th>mean</th>\n",
       "      <th>std</th>\n",
       "      <th>amax</th>\n",
       "      <th>amin</th>\n",
       "      <th>mean</th>\n",
       "      <th>std</th>\n",
       "    </tr>\n",
       "    <tr>\n",
       "      <th>ALGORITHM</th>\n",
       "      <th>INSTANCE_SIZE</th>\n",
       "      <th></th>\n",
       "      <th></th>\n",
       "      <th></th>\n",
       "      <th></th>\n",
       "      <th></th>\n",
       "      <th></th>\n",
       "      <th></th>\n",
       "      <th></th>\n",
       "      <th></th>\n",
       "      <th></th>\n",
       "      <th></th>\n",
       "      <th></th>\n",
       "    </tr>\n",
       "  </thead>\n",
       "  <tbody>\n",
       "    <tr>\n",
       "      <th rowspan=\"5\" valign=\"top\">dp_dp</th>\n",
       "      <th>4</th>\n",
       "      <td>0.0</td>\n",
       "      <td>0.0</td>\n",
       "      <td>0.0</td>\n",
       "      <td>0.0</td>\n",
       "      <td>35872.0</td>\n",
       "      <td>4596.0</td>\n",
       "      <td>20262.608</td>\n",
       "      <td>5712.326794</td>\n",
       "      <td>27447.888</td>\n",
       "      <td>3442.997</td>\n",
       "      <td>15170.583108</td>\n",
       "      <td>4410.337713</td>\n",
       "    </tr>\n",
       "    <tr>\n",
       "      <th>10</th>\n",
       "      <td>0.0</td>\n",
       "      <td>0.0</td>\n",
       "      <td>0.0</td>\n",
       "      <td>0.0</td>\n",
       "      <td>193340.0</td>\n",
       "      <td>59470.0</td>\n",
       "      <td>124602.940</td>\n",
       "      <td>21693.422180</td>\n",
       "      <td>167603.314</td>\n",
       "      <td>41983.801</td>\n",
       "      <td>87811.524090</td>\n",
       "      <td>16404.809475</td>\n",
       "    </tr>\n",
       "    <tr>\n",
       "      <th>15</th>\n",
       "      <td>0.0</td>\n",
       "      <td>0.0</td>\n",
       "      <td>0.0</td>\n",
       "      <td>0.0</td>\n",
       "      <td>405210.0</td>\n",
       "      <td>159405.0</td>\n",
       "      <td>279350.820</td>\n",
       "      <td>40020.262973</td>\n",
       "      <td>278103.537</td>\n",
       "      <td>111082.817</td>\n",
       "      <td>189713.137648</td>\n",
       "      <td>27818.620667</td>\n",
       "    </tr>\n",
       "    <tr>\n",
       "      <th>20</th>\n",
       "      <td>0.0</td>\n",
       "      <td>0.0</td>\n",
       "      <td>0.0</td>\n",
       "      <td>0.0</td>\n",
       "      <td>697420.0</td>\n",
       "      <td>347960.0</td>\n",
       "      <td>501462.440</td>\n",
       "      <td>61164.559961</td>\n",
       "      <td>513808.724</td>\n",
       "      <td>231492.178</td>\n",
       "      <td>351419.924282</td>\n",
       "      <td>45935.448949</td>\n",
       "    </tr>\n",
       "    <tr>\n",
       "      <th>25</th>\n",
       "      <td>0.0</td>\n",
       "      <td>0.0</td>\n",
       "      <td>0.0</td>\n",
       "      <td>0.0</td>\n",
       "      <td>1057700.0</td>\n",
       "      <td>528600.0</td>\n",
       "      <td>774038.750</td>\n",
       "      <td>88281.680971</td>\n",
       "      <td>967276.709</td>\n",
       "      <td>376841.109</td>\n",
       "      <td>566542.401054</td>\n",
       "      <td>76567.895138</td>\n",
       "    </tr>\n",
       "  </tbody>\n",
       "</table>\n",
       "</div>"
      ],
      "text/plain": [
       "                        ERROR                     STEPS                        \\\n",
       "                         amax amin mean  std       amax      amin        mean   \n",
       "ALGORITHM INSTANCE_SIZE                                                         \n",
       "dp_dp     4               0.0  0.0  0.0  0.0    35872.0    4596.0   20262.608   \n",
       "          10              0.0  0.0  0.0  0.0   193340.0   59470.0  124602.940   \n",
       "          15              0.0  0.0  0.0  0.0   405210.0  159405.0  279350.820   \n",
       "          20              0.0  0.0  0.0  0.0   697420.0  347960.0  501462.440   \n",
       "          25              0.0  0.0  0.0  0.0  1057700.0  528600.0  774038.750   \n",
       "\n",
       "                                         TIME[ms]                             \\\n",
       "                                  std        amax        amin           mean   \n",
       "ALGORITHM INSTANCE_SIZE                                                        \n",
       "dp_dp     4               5712.326794   27447.888    3442.997   15170.583108   \n",
       "          10             21693.422180  167603.314   41983.801   87811.524090   \n",
       "          15             40020.262973  278103.537  111082.817  189713.137648   \n",
       "          20             61164.559961  513808.724  231492.178  351419.924282   \n",
       "          25             88281.680971  967276.709  376841.109  566542.401054   \n",
       "\n",
       "                                       \n",
       "                                  std  \n",
       "ALGORITHM INSTANCE_SIZE                \n",
       "dp_dp     4               4410.337713  \n",
       "          10             16404.809475  \n",
       "          15             27818.620667  \n",
       "          20             45935.448949  \n",
       "          25             76567.895138  "
      ]
     },
     "metadata": {},
     "output_type": "display_data"
    },
    {
     "name": "stdout",
     "output_type": "stream",
     "text": [
      "====================================================================================================\n"
     ]
    }
   ],
   "source": [
    "display_basic_dataframe_analyse(df_data=algorithms_outputs['dp_dw'])\n",
    "display_basic_dataframe_analyse(df_data=algorithms_outputs['dp_dp'])"
   ]
  },
  {
   "cell_type": "markdown",
   "metadata": {},
   "source": [
    "Vlastně **Dynamic Programming** je algoritmus s relativně dobrou složitostí, ale vysokou paměťovou náročností. Maximální složitost algoritmu je závislá na součinu _počet věci_*_nosnost batohu_(/_celková suma_ věci).\n",
    "\n",
    "Jak již bylo zmíněno dříve, algoritmus je optimální a vždy najde nejlepší optimální řešení, neboť stavíme tabulku celého prostoru všech možných řešení, plus je vidět z vypsané statistiky výš, že maximální chyba pro oba dva typy dekompozice je nulová.\n",
    "\n",
    "Počet kroku je vždy ekvivalentní velikosti postavené dynamické tabulky.\n",
    "\n",
    "Je třeba poznamenat, že čas byl měřen v microsekundech. A že statistiky je vidět, že je velký rozdíl v času mezi dekompozici podle ceny a podle váhy. Dekompozice podle ceny trvá mnohem déle. Stejně tak, jak již bylo zmíněno dříve, algoritmus je pseudopolynomiální a doba běhu je **O(N*velikost_batohu)** nebo **O(N*sum_of_all_items_prices)**, v zavilsoti na typu dekompozici.\n",
    "\n",
    "Pro většinu instancí problémů platí, že velikost(/nosnost) batohu je striktně menší než suma cen všech věci, proto tabulku, kterou stavíme při dekompozici podle váhy, měla by být menší velikosti a stejně tak, čas který potřebujeme pro stavbu takové tabulky bude mnohem menší. "
   ]
  },
  {
   "cell_type": "markdown",
   "metadata": {},
   "source": [
    "### 3.3 Greedy"
   ]
  },
  {
   "cell_type": "code",
   "execution_count": 147,
   "metadata": {},
   "outputs": [
    {
     "name": "stdout",
     "output_type": "stream",
     "text": [
      "====================================================================================================\n",
      "Greedy algorithm: \n"
     ]
    },
    {
     "data": {
      "text/html": [
       "<div>\n",
       "<style scoped>\n",
       "    .dataframe tbody tr th:only-of-type {\n",
       "        vertical-align: middle;\n",
       "    }\n",
       "\n",
       "    .dataframe tbody tr th {\n",
       "        vertical-align: top;\n",
       "    }\n",
       "\n",
       "    .dataframe thead tr th {\n",
       "        text-align: left;\n",
       "    }\n",
       "\n",
       "    .dataframe thead tr:last-of-type th {\n",
       "        text-align: right;\n",
       "    }\n",
       "</style>\n",
       "<table border=\"1\" class=\"dataframe\">\n",
       "  <thead>\n",
       "    <tr>\n",
       "      <th></th>\n",
       "      <th></th>\n",
       "      <th colspan=\"4\" halign=\"left\">ERROR</th>\n",
       "      <th colspan=\"4\" halign=\"left\">STEPS</th>\n",
       "      <th colspan=\"4\" halign=\"left\">TIME[ms]</th>\n",
       "    </tr>\n",
       "    <tr>\n",
       "      <th></th>\n",
       "      <th></th>\n",
       "      <th>amax</th>\n",
       "      <th>amin</th>\n",
       "      <th>mean</th>\n",
       "      <th>std</th>\n",
       "      <th>amax</th>\n",
       "      <th>amin</th>\n",
       "      <th>mean</th>\n",
       "      <th>std</th>\n",
       "      <th>amax</th>\n",
       "      <th>amin</th>\n",
       "      <th>mean</th>\n",
       "      <th>std</th>\n",
       "    </tr>\n",
       "    <tr>\n",
       "      <th>ALGORITHM</th>\n",
       "      <th>INSTANCE_SIZE</th>\n",
       "      <th></th>\n",
       "      <th></th>\n",
       "      <th></th>\n",
       "      <th></th>\n",
       "      <th></th>\n",
       "      <th></th>\n",
       "      <th></th>\n",
       "      <th></th>\n",
       "      <th></th>\n",
       "      <th></th>\n",
       "      <th></th>\n",
       "      <th></th>\n",
       "    </tr>\n",
       "  </thead>\n",
       "  <tbody>\n",
       "    <tr>\n",
       "      <th rowspan=\"5\" valign=\"top\">greedy</th>\n",
       "      <th>4</th>\n",
       "      <td>0.359189</td>\n",
       "      <td>0.0</td>\n",
       "      <td>0.014534</td>\n",
       "      <td>0.050958</td>\n",
       "      <td>4.0</td>\n",
       "      <td>4.0</td>\n",
       "      <td>4.0</td>\n",
       "      <td>0.0</td>\n",
       "      <td>29.905</td>\n",
       "      <td>3.967</td>\n",
       "      <td>5.403292</td>\n",
       "      <td>2.542194</td>\n",
       "    </tr>\n",
       "    <tr>\n",
       "      <th>10</th>\n",
       "      <td>0.531453</td>\n",
       "      <td>0.0</td>\n",
       "      <td>0.013041</td>\n",
       "      <td>0.041269</td>\n",
       "      <td>10.0</td>\n",
       "      <td>10.0</td>\n",
       "      <td>10.0</td>\n",
       "      <td>0.0</td>\n",
       "      <td>59.177</td>\n",
       "      <td>7.364</td>\n",
       "      <td>10.106590</td>\n",
       "      <td>4.033660</td>\n",
       "    </tr>\n",
       "    <tr>\n",
       "      <th>15</th>\n",
       "      <td>0.236835</td>\n",
       "      <td>0.0</td>\n",
       "      <td>0.009684</td>\n",
       "      <td>0.022893</td>\n",
       "      <td>15.0</td>\n",
       "      <td>15.0</td>\n",
       "      <td>15.0</td>\n",
       "      <td>0.0</td>\n",
       "      <td>253.113</td>\n",
       "      <td>10.419</td>\n",
       "      <td>14.654252</td>\n",
       "      <td>11.448185</td>\n",
       "    </tr>\n",
       "    <tr>\n",
       "      <th>20</th>\n",
       "      <td>0.430054</td>\n",
       "      <td>0.0</td>\n",
       "      <td>0.008604</td>\n",
       "      <td>0.025896</td>\n",
       "      <td>20.0</td>\n",
       "      <td>20.0</td>\n",
       "      <td>20.0</td>\n",
       "      <td>0.0</td>\n",
       "      <td>53.640</td>\n",
       "      <td>13.472</td>\n",
       "      <td>17.913444</td>\n",
       "      <td>3.762631</td>\n",
       "    </tr>\n",
       "    <tr>\n",
       "      <th>25</th>\n",
       "      <td>0.152880</td>\n",
       "      <td>0.0</td>\n",
       "      <td>0.007245</td>\n",
       "      <td>0.015007</td>\n",
       "      <td>25.0</td>\n",
       "      <td>25.0</td>\n",
       "      <td>25.0</td>\n",
       "      <td>0.0</td>\n",
       "      <td>84.023</td>\n",
       "      <td>16.604</td>\n",
       "      <td>22.513690</td>\n",
       "      <td>6.068293</td>\n",
       "    </tr>\n",
       "  </tbody>\n",
       "</table>\n",
       "</div>"
      ],
      "text/plain": [
       "                            ERROR                          STEPS              \\\n",
       "                             amax amin      mean       std  amax  amin  mean   \n",
       "ALGORITHM INSTANCE_SIZE                                                        \n",
       "greedy    4              0.359189  0.0  0.014534  0.050958   4.0   4.0   4.0   \n",
       "          10             0.531453  0.0  0.013041  0.041269  10.0  10.0  10.0   \n",
       "          15             0.236835  0.0  0.009684  0.022893  15.0  15.0  15.0   \n",
       "          20             0.430054  0.0  0.008604  0.025896  20.0  20.0  20.0   \n",
       "          25             0.152880  0.0  0.007245  0.015007  25.0  25.0  25.0   \n",
       "\n",
       "                             TIME[ms]                                \n",
       "                         std     amax    amin       mean        std  \n",
       "ALGORITHM INSTANCE_SIZE                                              \n",
       "greedy    4              0.0   29.905   3.967   5.403292   2.542194  \n",
       "          10             0.0   59.177   7.364  10.106590   4.033660  \n",
       "          15             0.0  253.113  10.419  14.654252  11.448185  \n",
       "          20             0.0   53.640  13.472  17.913444   3.762631  \n",
       "          25             0.0   84.023  16.604  22.513690   6.068293  "
      ]
     },
     "metadata": {},
     "output_type": "display_data"
    },
    {
     "name": "stdout",
     "output_type": "stream",
     "text": [
      "====================================================================================================\n"
     ]
    }
   ],
   "source": [
    "display_basic_dataframe_analyse(df_data=algorithms_outputs['greedy'])"
   ]
  },
  {
   "cell_type": "markdown",
   "metadata": {},
   "source": [
    "U **Greedy** alogoritmu hlavně soustředíme na relativních chybách. Ale předtím ještě probereme pár důležitých detailů.\n",
    "\n",
    "**Greedy** algoritmus nevede vždy k optimálnímu řešení, ale pokud ano, je to obvykle nejjednodušší a nejefektivnější dostupný algoritmus. Slozitost algoritmu je závislá na použitém řazení, nebot hlavním časově náročným krokem je seřazení všech položek v sestupném pořadí podle poměru jejich hodnoty a hmotnosti.\n",
    "\n",
    "Ze statistiky je vidět, že počet kroku je vždy roveň velikosti instanci.\n",
    "Co se týče chyb, tak třeba u instanci velikosti **20** maximální chyba je **43%**. Je to docela velká odchylka od lepšího řešení, přestože maximální čas pro tu samou instanci je *53.640 mikrosekund* (průměr je *17.913444 mikorsekund*), což je docela rychle (neboť bereme do úvahy, že to je čas pro prostor všech možných řešení velikosti $2^{20}$ = 1048576). Maximální hodnota chyby je však u instanci velikosti **10** a je **53%**. \n",
    "\n",
    "Celkem dá se říct, že hodnoty chyb jsou docela velké. Maximální chyba u všech instancí je v intervalu **<15%, 53%>**."
   ]
  },
  {
   "cell_type": "markdown",
   "metadata": {},
   "source": [
    "### 3.4 Redux"
   ]
  },
  {
   "cell_type": "code",
   "execution_count": 151,
   "metadata": {},
   "outputs": [
    {
     "name": "stdout",
     "output_type": "stream",
     "text": [
      "====================================================================================================\n",
      "Redux algorithm: \n"
     ]
    },
    {
     "data": {
      "text/html": [
       "<div>\n",
       "<style scoped>\n",
       "    .dataframe tbody tr th:only-of-type {\n",
       "        vertical-align: middle;\n",
       "    }\n",
       "\n",
       "    .dataframe tbody tr th {\n",
       "        vertical-align: top;\n",
       "    }\n",
       "\n",
       "    .dataframe thead tr th {\n",
       "        text-align: left;\n",
       "    }\n",
       "\n",
       "    .dataframe thead tr:last-of-type th {\n",
       "        text-align: right;\n",
       "    }\n",
       "</style>\n",
       "<table border=\"1\" class=\"dataframe\">\n",
       "  <thead>\n",
       "    <tr>\n",
       "      <th></th>\n",
       "      <th></th>\n",
       "      <th colspan=\"4\" halign=\"left\">ERROR</th>\n",
       "      <th colspan=\"4\" halign=\"left\">STEPS</th>\n",
       "      <th colspan=\"4\" halign=\"left\">TIME[ms]</th>\n",
       "    </tr>\n",
       "    <tr>\n",
       "      <th></th>\n",
       "      <th></th>\n",
       "      <th>amax</th>\n",
       "      <th>amin</th>\n",
       "      <th>mean</th>\n",
       "      <th>std</th>\n",
       "      <th>amax</th>\n",
       "      <th>amin</th>\n",
       "      <th>mean</th>\n",
       "      <th>std</th>\n",
       "      <th>amax</th>\n",
       "      <th>amin</th>\n",
       "      <th>mean</th>\n",
       "      <th>std</th>\n",
       "    </tr>\n",
       "    <tr>\n",
       "      <th>ALGORITHM</th>\n",
       "      <th>INSTANCE_SIZE</th>\n",
       "      <th></th>\n",
       "      <th></th>\n",
       "      <th></th>\n",
       "      <th></th>\n",
       "      <th></th>\n",
       "      <th></th>\n",
       "      <th></th>\n",
       "      <th></th>\n",
       "      <th></th>\n",
       "      <th></th>\n",
       "      <th></th>\n",
       "      <th></th>\n",
       "    </tr>\n",
       "  </thead>\n",
       "  <tbody>\n",
       "    <tr>\n",
       "      <th rowspan=\"5\" valign=\"top\">redux</th>\n",
       "      <th>4</th>\n",
       "      <td>0.198842</td>\n",
       "      <td>0.0</td>\n",
       "      <td>0.001215</td>\n",
       "      <td>0.013909</td>\n",
       "      <td>8.0</td>\n",
       "      <td>5.0</td>\n",
       "      <td>7.840</td>\n",
       "      <td>0.543130</td>\n",
       "      <td>36.814</td>\n",
       "      <td>7.236</td>\n",
       "      <td>10.694928</td>\n",
       "      <td>3.040697</td>\n",
       "    </tr>\n",
       "    <tr>\n",
       "      <th>10</th>\n",
       "      <td>0.128065</td>\n",
       "      <td>0.0</td>\n",
       "      <td>0.003478</td>\n",
       "      <td>0.015054</td>\n",
       "      <td>20.0</td>\n",
       "      <td>11.0</td>\n",
       "      <td>19.324</td>\n",
       "      <td>1.562019</td>\n",
       "      <td>55.228</td>\n",
       "      <td>12.993</td>\n",
       "      <td>20.372066</td>\n",
       "      <td>5.312274</td>\n",
       "    </tr>\n",
       "    <tr>\n",
       "      <th>15</th>\n",
       "      <td>0.115781</td>\n",
       "      <td>0.0</td>\n",
       "      <td>0.005181</td>\n",
       "      <td>0.015873</td>\n",
       "      <td>30.0</td>\n",
       "      <td>16.0</td>\n",
       "      <td>29.014</td>\n",
       "      <td>2.342815</td>\n",
       "      <td>263.138</td>\n",
       "      <td>17.947</td>\n",
       "      <td>28.809288</td>\n",
       "      <td>12.108254</td>\n",
       "    </tr>\n",
       "    <tr>\n",
       "      <th>20</th>\n",
       "      <td>0.126417</td>\n",
       "      <td>0.0</td>\n",
       "      <td>0.005565</td>\n",
       "      <td>0.015498</td>\n",
       "      <td>40.0</td>\n",
       "      <td>22.0</td>\n",
       "      <td>39.086</td>\n",
       "      <td>2.410441</td>\n",
       "      <td>83.727</td>\n",
       "      <td>21.823</td>\n",
       "      <td>37.296062</td>\n",
       "      <td>7.958808</td>\n",
       "    </tr>\n",
       "    <tr>\n",
       "      <th>25</th>\n",
       "      <td>0.124240</td>\n",
       "      <td>0.0</td>\n",
       "      <td>0.005337</td>\n",
       "      <td>0.012197</td>\n",
       "      <td>50.0</td>\n",
       "      <td>33.0</td>\n",
       "      <td>49.046</td>\n",
       "      <td>2.713413</td>\n",
       "      <td>96.347</td>\n",
       "      <td>28.214</td>\n",
       "      <td>42.962254</td>\n",
       "      <td>8.613021</td>\n",
       "    </tr>\n",
       "  </tbody>\n",
       "</table>\n",
       "</div>"
      ],
      "text/plain": [
       "                            ERROR                          STEPS        \\\n",
       "                             amax amin      mean       std  amax  amin   \n",
       "ALGORITHM INSTANCE_SIZE                                                  \n",
       "redux     4              0.198842  0.0  0.001215  0.013909   8.0   5.0   \n",
       "          10             0.128065  0.0  0.003478  0.015054  20.0  11.0   \n",
       "          15             0.115781  0.0  0.005181  0.015873  30.0  16.0   \n",
       "          20             0.126417  0.0  0.005565  0.015498  40.0  22.0   \n",
       "          25             0.124240  0.0  0.005337  0.012197  50.0  33.0   \n",
       "\n",
       "                                          TIME[ms]                     \\\n",
       "                           mean       std     amax    amin       mean   \n",
       "ALGORITHM INSTANCE_SIZE                                                 \n",
       "redux     4               7.840  0.543130   36.814   7.236  10.694928   \n",
       "          10             19.324  1.562019   55.228  12.993  20.372066   \n",
       "          15             29.014  2.342815  263.138  17.947  28.809288   \n",
       "          20             39.086  2.410441   83.727  21.823  37.296062   \n",
       "          25             49.046  2.713413   96.347  28.214  42.962254   \n",
       "\n",
       "                                    \n",
       "                               std  \n",
       "ALGORITHM INSTANCE_SIZE             \n",
       "redux     4               3.040697  \n",
       "          10              5.312274  \n",
       "          15             12.108254  \n",
       "          20              7.958808  \n",
       "          25              8.613021  "
      ]
     },
     "metadata": {},
     "output_type": "display_data"
    },
    {
     "name": "stdout",
     "output_type": "stream",
     "text": [
      "====================================================================================================\n"
     ]
    }
   ],
   "source": [
    "display_basic_dataframe_analyse(df_data=algorithms_outputs['redux'])"
   ]
  },
  {
   "cell_type": "markdown",
   "metadata": {},
   "source": [
    "Algoritmus **Redux** je vylepšením předchozí heuristiky. Složitost je opět závislá na použitém řazení.\n",
    "Celkem, dá se říct, že je to dobrá optimalizace předchozího alogoritmu. Maximální hodnoty chyb jednotlivých instanci se zmenšily. Třeba u predchozicho algoritmu maximální hodnota chyby u instanci veliksoti **10** byla **53%**. Ted chyba je **12%**, což je skoro o 4-krať menší.\n",
    "\n",
    "Maximální chyba u všech instancí je v intervalu **<11%, 20%>**."
   ]
  },
  {
   "cell_type": "markdown",
   "metadata": {},
   "source": [
    "### 3.5 FPTAS"
   ]
  },
  {
   "cell_type": "code",
   "execution_count": 156,
   "metadata": {},
   "outputs": [
    {
     "name": "stdout",
     "output_type": "stream",
     "text": [
      "====================================================================================================\n",
      "FPTAS algorithm: \n"
     ]
    },
    {
     "data": {
      "text/html": [
       "<div>\n",
       "<style scoped>\n",
       "    .dataframe tbody tr th:only-of-type {\n",
       "        vertical-align: middle;\n",
       "    }\n",
       "\n",
       "    .dataframe tbody tr th {\n",
       "        vertical-align: top;\n",
       "    }\n",
       "\n",
       "    .dataframe thead tr th {\n",
       "        text-align: left;\n",
       "    }\n",
       "\n",
       "    .dataframe thead tr:last-of-type th {\n",
       "        text-align: right;\n",
       "    }\n",
       "</style>\n",
       "<table border=\"1\" class=\"dataframe\">\n",
       "  <thead>\n",
       "    <tr>\n",
       "      <th></th>\n",
       "      <th></th>\n",
       "      <th></th>\n",
       "      <th colspan=\"4\" halign=\"left\">ERROR</th>\n",
       "      <th colspan=\"4\" halign=\"left\">STEPS</th>\n",
       "      <th colspan=\"4\" halign=\"left\">TIME[ms]</th>\n",
       "    </tr>\n",
       "    <tr>\n",
       "      <th></th>\n",
       "      <th></th>\n",
       "      <th></th>\n",
       "      <th>amax</th>\n",
       "      <th>amin</th>\n",
       "      <th>mean</th>\n",
       "      <th>std</th>\n",
       "      <th>amax</th>\n",
       "      <th>amin</th>\n",
       "      <th>mean</th>\n",
       "      <th>std</th>\n",
       "      <th>amax</th>\n",
       "      <th>amin</th>\n",
       "      <th>mean</th>\n",
       "      <th>std</th>\n",
       "    </tr>\n",
       "    <tr>\n",
       "      <th>ALGORITHM</th>\n",
       "      <th>INSTANCE_SIZE</th>\n",
       "      <th>ACCURACY_VALUE</th>\n",
       "      <th></th>\n",
       "      <th></th>\n",
       "      <th></th>\n",
       "      <th></th>\n",
       "      <th></th>\n",
       "      <th></th>\n",
       "      <th></th>\n",
       "      <th></th>\n",
       "      <th></th>\n",
       "      <th></th>\n",
       "      <th></th>\n",
       "      <th></th>\n",
       "    </tr>\n",
       "  </thead>\n",
       "  <tbody>\n",
       "    <tr>\n",
       "      <th rowspan=\"15\" valign=\"top\">fptas</th>\n",
       "      <th rowspan=\"3\" valign=\"top\">4</th>\n",
       "      <th>0.1</th>\n",
       "      <td>1.000000</td>\n",
       "      <td>0.0</td>\n",
       "      <td>0.002527</td>\n",
       "      <td>0.045528</td>\n",
       "      <td>596.0</td>\n",
       "      <td>168.0</td>\n",
       "      <td>392.488</td>\n",
       "      <td>78.779377</td>\n",
       "      <td>705.151</td>\n",
       "      <td>169.463</td>\n",
       "      <td>338.197868</td>\n",
       "      <td>62.621351</td>\n",
       "    </tr>\n",
       "    <tr>\n",
       "      <th>0.4</th>\n",
       "      <td>1.000000</td>\n",
       "      <td>0.0</td>\n",
       "      <td>0.024296</td>\n",
       "      <td>0.140808</td>\n",
       "      <td>140.0</td>\n",
       "      <td>32.0</td>\n",
       "      <td>90.024</td>\n",
       "      <td>19.821231</td>\n",
       "      <td>432.444</td>\n",
       "      <td>79.060</td>\n",
       "      <td>127.950296</td>\n",
       "      <td>27.421851</td>\n",
       "    </tr>\n",
       "    <tr>\n",
       "      <th>0.7</th>\n",
       "      <td>1.000000</td>\n",
       "      <td>0.0</td>\n",
       "      <td>0.041386</td>\n",
       "      <td>0.167548</td>\n",
       "      <td>72.0</td>\n",
       "      <td>16.0</td>\n",
       "      <td>44.912</td>\n",
       "      <td>11.273973</td>\n",
       "      <td>512.110</td>\n",
       "      <td>66.366</td>\n",
       "      <td>99.616052</td>\n",
       "      <td>27.744885</td>\n",
       "    </tr>\n",
       "    <tr>\n",
       "      <th rowspan=\"3\" valign=\"top\">10</th>\n",
       "      <th>0.1</th>\n",
       "      <td>0.002134</td>\n",
       "      <td>0.0</td>\n",
       "      <td>0.000026</td>\n",
       "      <td>0.000181</td>\n",
       "      <td>8160.0</td>\n",
       "      <td>2900.0</td>\n",
       "      <td>5417.300</td>\n",
       "      <td>880.987394</td>\n",
       "      <td>5822.647</td>\n",
       "      <td>1946.582</td>\n",
       "      <td>3736.817628</td>\n",
       "      <td>619.483077</td>\n",
       "    </tr>\n",
       "    <tr>\n",
       "      <th>0.4</th>\n",
       "      <td>0.078431</td>\n",
       "      <td>0.0</td>\n",
       "      <td>0.001016</td>\n",
       "      <td>0.005343</td>\n",
       "      <td>1990.0</td>\n",
       "      <td>690.0</td>\n",
       "      <td>1310.400</td>\n",
       "      <td>219.635880</td>\n",
       "      <td>1427.778</td>\n",
       "      <td>533.866</td>\n",
       "      <td>957.555138</td>\n",
       "      <td>153.532134</td>\n",
       "    </tr>\n",
       "    <tr>\n",
       "      <th>0.7</th>\n",
       "      <td>0.118961</td>\n",
       "      <td>0.0</td>\n",
       "      <td>0.002934</td>\n",
       "      <td>0.011433</td>\n",
       "      <td>1110.0</td>\n",
       "      <td>360.0</td>\n",
       "      <td>725.440</td>\n",
       "      <td>125.830334</td>\n",
       "      <td>969.475</td>\n",
       "      <td>328.209</td>\n",
       "      <td>577.542954</td>\n",
       "      <td>88.556156</td>\n",
       "    </tr>\n",
       "    <tr>\n",
       "      <th rowspan=\"3\" valign=\"top\">15</th>\n",
       "      <th>0.1</th>\n",
       "      <td>0.003003</td>\n",
       "      <td>0.0</td>\n",
       "      <td>0.000026</td>\n",
       "      <td>0.000186</td>\n",
       "      <td>25050.0</td>\n",
       "      <td>9810.0</td>\n",
       "      <td>17771.550</td>\n",
       "      <td>2379.074155</td>\n",
       "      <td>16043.100</td>\n",
       "      <td>6317.047</td>\n",
       "      <td>11584.509514</td>\n",
       "      <td>1564.535994</td>\n",
       "    </tr>\n",
       "    <tr>\n",
       "      <th>0.4</th>\n",
       "      <td>0.008150</td>\n",
       "      <td>0.0</td>\n",
       "      <td>0.000265</td>\n",
       "      <td>0.000996</td>\n",
       "      <td>6165.0</td>\n",
       "      <td>2355.0</td>\n",
       "      <td>4348.380</td>\n",
       "      <td>595.391432</td>\n",
       "      <td>4380.618</td>\n",
       "      <td>1580.609</td>\n",
       "      <td>2888.149710</td>\n",
       "      <td>399.419578</td>\n",
       "    </tr>\n",
       "    <tr>\n",
       "      <th>0.7</th>\n",
       "      <td>0.023352</td>\n",
       "      <td>0.0</td>\n",
       "      <td>0.000890</td>\n",
       "      <td>0.002666</td>\n",
       "      <td>3480.0</td>\n",
       "      <td>1290.0</td>\n",
       "      <td>2431.050</td>\n",
       "      <td>339.528506</td>\n",
       "      <td>2692.600</td>\n",
       "      <td>956.024</td>\n",
       "      <td>1688.163262</td>\n",
       "      <td>232.617615</td>\n",
       "    </tr>\n",
       "    <tr>\n",
       "      <th rowspan=\"3\" valign=\"top\">20</th>\n",
       "      <th>0.1</th>\n",
       "      <td>1.000000</td>\n",
       "      <td>0.0</td>\n",
       "      <td>0.002011</td>\n",
       "      <td>0.044721</td>\n",
       "      <td>58080.0</td>\n",
       "      <td>28580.0</td>\n",
       "      <td>41951.400</td>\n",
       "      <td>4890.069816</td>\n",
       "      <td>39299.029</td>\n",
       "      <td>18762.090</td>\n",
       "      <td>28207.705946</td>\n",
       "      <td>3378.735709</td>\n",
       "    </tr>\n",
       "    <tr>\n",
       "      <th>0.4</th>\n",
       "      <td>1.000000</td>\n",
       "      <td>0.0</td>\n",
       "      <td>0.002119</td>\n",
       "      <td>0.044719</td>\n",
       "      <td>14320.0</td>\n",
       "      <td>6980.0</td>\n",
       "      <td>10325.800</td>\n",
       "      <td>1223.019343</td>\n",
       "      <td>10733.324</td>\n",
       "      <td>4437.975</td>\n",
       "      <td>6710.800106</td>\n",
       "      <td>838.029579</td>\n",
       "    </tr>\n",
       "    <tr>\n",
       "      <th>0.7</th>\n",
       "      <td>1.000000</td>\n",
       "      <td>0.0</td>\n",
       "      <td>0.002448</td>\n",
       "      <td>0.044755</td>\n",
       "      <td>8180.0</td>\n",
       "      <td>3920.0</td>\n",
       "      <td>5804.920</td>\n",
       "      <td>700.767825</td>\n",
       "      <td>7505.104</td>\n",
       "      <td>2586.010</td>\n",
       "      <td>3927.172524</td>\n",
       "      <td>537.421206</td>\n",
       "    </tr>\n",
       "    <tr>\n",
       "      <th rowspan=\"3\" valign=\"top\">25</th>\n",
       "      <th>0.1</th>\n",
       "      <td>0.000297</td>\n",
       "      <td>0.0</td>\n",
       "      <td>0.000002</td>\n",
       "      <td>0.000023</td>\n",
       "      <td>116050.0</td>\n",
       "      <td>53350.0</td>\n",
       "      <td>80107.000</td>\n",
       "      <td>8911.669974</td>\n",
       "      <td>76497.536</td>\n",
       "      <td>34057.211</td>\n",
       "      <td>52107.984912</td>\n",
       "      <td>5950.421316</td>\n",
       "    </tr>\n",
       "    <tr>\n",
       "      <th>0.4</th>\n",
       "      <td>0.004129</td>\n",
       "      <td>0.0</td>\n",
       "      <td>0.000094</td>\n",
       "      <td>0.000386</td>\n",
       "      <td>28750.0</td>\n",
       "      <td>13100.0</td>\n",
       "      <td>19776.650</td>\n",
       "      <td>2228.779586</td>\n",
       "      <td>20465.911</td>\n",
       "      <td>8226.254</td>\n",
       "      <td>13238.634680</td>\n",
       "      <td>1827.324390</td>\n",
       "    </tr>\n",
       "    <tr>\n",
       "      <th>0.7</th>\n",
       "      <td>0.006879</td>\n",
       "      <td>0.0</td>\n",
       "      <td>0.000227</td>\n",
       "      <td>0.000744</td>\n",
       "      <td>16250.0</td>\n",
       "      <td>7250.0</td>\n",
       "      <td>11150.350</td>\n",
       "      <td>1274.265920</td>\n",
       "      <td>12505.738</td>\n",
       "      <td>4826.498</td>\n",
       "      <td>7291.147060</td>\n",
       "      <td>872.263055</td>\n",
       "    </tr>\n",
       "  </tbody>\n",
       "</table>\n",
       "</div>"
      ],
      "text/plain": [
       "                                           ERROR                           \\\n",
       "                                            amax amin      mean       std   \n",
       "ALGORITHM INSTANCE_SIZE ACCURACY_VALUE                                      \n",
       "fptas     4             0.1             1.000000  0.0  0.002527  0.045528   \n",
       "                        0.4             1.000000  0.0  0.024296  0.140808   \n",
       "                        0.7             1.000000  0.0  0.041386  0.167548   \n",
       "          10            0.1             0.002134  0.0  0.000026  0.000181   \n",
       "                        0.4             0.078431  0.0  0.001016  0.005343   \n",
       "                        0.7             0.118961  0.0  0.002934  0.011433   \n",
       "          15            0.1             0.003003  0.0  0.000026  0.000186   \n",
       "                        0.4             0.008150  0.0  0.000265  0.000996   \n",
       "                        0.7             0.023352  0.0  0.000890  0.002666   \n",
       "          20            0.1             1.000000  0.0  0.002011  0.044721   \n",
       "                        0.4             1.000000  0.0  0.002119  0.044719   \n",
       "                        0.7             1.000000  0.0  0.002448  0.044755   \n",
       "          25            0.1             0.000297  0.0  0.000002  0.000023   \n",
       "                        0.4             0.004129  0.0  0.000094  0.000386   \n",
       "                        0.7             0.006879  0.0  0.000227  0.000744   \n",
       "\n",
       "                                           STEPS                      \\\n",
       "                                            amax     amin       mean   \n",
       "ALGORITHM INSTANCE_SIZE ACCURACY_VALUE                                 \n",
       "fptas     4             0.1                596.0    168.0    392.488   \n",
       "                        0.4                140.0     32.0     90.024   \n",
       "                        0.7                 72.0     16.0     44.912   \n",
       "          10            0.1               8160.0   2900.0   5417.300   \n",
       "                        0.4               1990.0    690.0   1310.400   \n",
       "                        0.7               1110.0    360.0    725.440   \n",
       "          15            0.1              25050.0   9810.0  17771.550   \n",
       "                        0.4               6165.0   2355.0   4348.380   \n",
       "                        0.7               3480.0   1290.0   2431.050   \n",
       "          20            0.1              58080.0  28580.0  41951.400   \n",
       "                        0.4              14320.0   6980.0  10325.800   \n",
       "                        0.7               8180.0   3920.0   5804.920   \n",
       "          25            0.1             116050.0  53350.0  80107.000   \n",
       "                        0.4              28750.0  13100.0  19776.650   \n",
       "                        0.7              16250.0   7250.0  11150.350   \n",
       "\n",
       "                                                      TIME[ms]             \\\n",
       "                                                std       amax       amin   \n",
       "ALGORITHM INSTANCE_SIZE ACCURACY_VALUE                                      \n",
       "fptas     4             0.1               78.779377    705.151    169.463   \n",
       "                        0.4               19.821231    432.444     79.060   \n",
       "                        0.7               11.273973    512.110     66.366   \n",
       "          10            0.1              880.987394   5822.647   1946.582   \n",
       "                        0.4              219.635880   1427.778    533.866   \n",
       "                        0.7              125.830334    969.475    328.209   \n",
       "          15            0.1             2379.074155  16043.100   6317.047   \n",
       "                        0.4              595.391432   4380.618   1580.609   \n",
       "                        0.7              339.528506   2692.600    956.024   \n",
       "          20            0.1             4890.069816  39299.029  18762.090   \n",
       "                        0.4             1223.019343  10733.324   4437.975   \n",
       "                        0.7              700.767825   7505.104   2586.010   \n",
       "          25            0.1             8911.669974  76497.536  34057.211   \n",
       "                        0.4             2228.779586  20465.911   8226.254   \n",
       "                        0.7             1274.265920  12505.738   4826.498   \n",
       "\n",
       "                                                                   \n",
       "                                                mean          std  \n",
       "ALGORITHM INSTANCE_SIZE ACCURACY_VALUE                             \n",
       "fptas     4             0.1               338.197868    62.621351  \n",
       "                        0.4               127.950296    27.421851  \n",
       "                        0.7                99.616052    27.744885  \n",
       "          10            0.1              3736.817628   619.483077  \n",
       "                        0.4               957.555138   153.532134  \n",
       "                        0.7               577.542954    88.556156  \n",
       "          15            0.1             11584.509514  1564.535994  \n",
       "                        0.4              2888.149710   399.419578  \n",
       "                        0.7              1688.163262   232.617615  \n",
       "          20            0.1             28207.705946  3378.735709  \n",
       "                        0.4              6710.800106   838.029579  \n",
       "                        0.7              3927.172524   537.421206  \n",
       "          25            0.1             52107.984912  5950.421316  \n",
       "                        0.4             13238.634680  1827.324390  \n",
       "                        0.7              7291.147060   872.263055  "
      ]
     },
     "metadata": {},
     "output_type": "display_data"
    },
    {
     "name": "stdout",
     "output_type": "stream",
     "text": [
      "====================================================================================================\n"
     ]
    }
   ],
   "source": [
    "display_basic_dataframe_analyse(\n",
    "    df_data=algorithms_outputs['fptas'],\n",
    "    additional_indexes=['ACCURACY_VALUE']\n",
    ")"
   ]
  },
  {
   "cell_type": "markdown",
   "metadata": {},
   "source": [
    "Kromě toho, že máme statistiky pro instanci velikosti **4**, **10**, **15**, **20**, **25**, navíc ještě na každé intanci byl spouštěn algoritmus **FPTAS** s **ε**(přesností) **0.1**, **0.4** a **0.7**.\n",
    "\n",
    "Zajímá nás teď sloupec **mean** u chyby. Pozorujeme několik tendenci. Čím větší **ε** nastavujeme, tím se zvyšuje průměr chyby, avšak se zmenšuje průměrný čas běhu algoritmu. Při **ε** = 0.7 čas průměrný čas běhu se zmenšuje o 5-6-krať oproti **ε** = 0.1 a to skoro platí pro instanci všech velikosti. To znamená, že je závislost mezi nastavenou přesností a chybou, a ona není lineární.\n",
    "\n",
    "Dá se říct, že u instanci menších velikostí průměrná hodnota chyby je větší než u větších instancí, a pravděpodobně je to ovlivněno velikosti prostoru řešení."
   ]
  },
  {
   "cell_type": "markdown",
   "metadata": {},
   "source": [
    "Ok, teď se klidně můžeme pustit do porovnání s algoritmem **Dynamic Programming**. Zvolíme výstupy **FPTAS** algoritmu jenom pro **ε** = 0.4."
   ]
  },
  {
   "cell_type": "code",
   "execution_count": 185,
   "metadata": {},
   "outputs": [
    {
     "name": "stdout",
     "output_type": "stream",
     "text": [
      "====================================================================================================\n",
      "Dynamic Programming (decomposition by price), FPTAS algorithm: \n"
     ]
    },
    {
     "data": {
      "text/html": [
       "<div>\n",
       "<style scoped>\n",
       "    .dataframe tbody tr th:only-of-type {\n",
       "        vertical-align: middle;\n",
       "    }\n",
       "\n",
       "    .dataframe tbody tr th {\n",
       "        vertical-align: top;\n",
       "    }\n",
       "\n",
       "    .dataframe thead tr th {\n",
       "        text-align: left;\n",
       "    }\n",
       "\n",
       "    .dataframe thead tr:last-of-type th {\n",
       "        text-align: right;\n",
       "    }\n",
       "</style>\n",
       "<table border=\"1\" class=\"dataframe\">\n",
       "  <thead>\n",
       "    <tr>\n",
       "      <th></th>\n",
       "      <th></th>\n",
       "      <th colspan=\"4\" halign=\"left\">ERROR</th>\n",
       "      <th colspan=\"4\" halign=\"left\">STEPS</th>\n",
       "      <th colspan=\"4\" halign=\"left\">TIME[ms]</th>\n",
       "    </tr>\n",
       "    <tr>\n",
       "      <th></th>\n",
       "      <th></th>\n",
       "      <th>amax</th>\n",
       "      <th>amin</th>\n",
       "      <th>mean</th>\n",
       "      <th>std</th>\n",
       "      <th>amax</th>\n",
       "      <th>amin</th>\n",
       "      <th>mean</th>\n",
       "      <th>std</th>\n",
       "      <th>amax</th>\n",
       "      <th>amin</th>\n",
       "      <th>mean</th>\n",
       "      <th>std</th>\n",
       "    </tr>\n",
       "    <tr>\n",
       "      <th>ALGORITHM</th>\n",
       "      <th>INSTANCE_SIZE</th>\n",
       "      <th></th>\n",
       "      <th></th>\n",
       "      <th></th>\n",
       "      <th></th>\n",
       "      <th></th>\n",
       "      <th></th>\n",
       "      <th></th>\n",
       "      <th></th>\n",
       "      <th></th>\n",
       "      <th></th>\n",
       "      <th></th>\n",
       "      <th></th>\n",
       "    </tr>\n",
       "  </thead>\n",
       "  <tbody>\n",
       "    <tr>\n",
       "      <th rowspan=\"5\" valign=\"top\">dp_dp</th>\n",
       "      <th>4</th>\n",
       "      <td>0.000000</td>\n",
       "      <td>0.0</td>\n",
       "      <td>0.000000</td>\n",
       "      <td>0.000000</td>\n",
       "      <td>35872.0</td>\n",
       "      <td>4596.0</td>\n",
       "      <td>20262.608</td>\n",
       "      <td>5712.326794</td>\n",
       "      <td>27447.888</td>\n",
       "      <td>3442.997</td>\n",
       "      <td>15170.583108</td>\n",
       "      <td>4410.337713</td>\n",
       "    </tr>\n",
       "    <tr>\n",
       "      <th>10</th>\n",
       "      <td>0.000000</td>\n",
       "      <td>0.0</td>\n",
       "      <td>0.000000</td>\n",
       "      <td>0.000000</td>\n",
       "      <td>193340.0</td>\n",
       "      <td>59470.0</td>\n",
       "      <td>124602.940</td>\n",
       "      <td>21693.422180</td>\n",
       "      <td>167603.314</td>\n",
       "      <td>41983.801</td>\n",
       "      <td>87811.524090</td>\n",
       "      <td>16404.809475</td>\n",
       "    </tr>\n",
       "    <tr>\n",
       "      <th>15</th>\n",
       "      <td>0.000000</td>\n",
       "      <td>0.0</td>\n",
       "      <td>0.000000</td>\n",
       "      <td>0.000000</td>\n",
       "      <td>405210.0</td>\n",
       "      <td>159405.0</td>\n",
       "      <td>279350.820</td>\n",
       "      <td>40020.262973</td>\n",
       "      <td>278103.537</td>\n",
       "      <td>111082.817</td>\n",
       "      <td>189713.137648</td>\n",
       "      <td>27818.620667</td>\n",
       "    </tr>\n",
       "    <tr>\n",
       "      <th>20</th>\n",
       "      <td>0.000000</td>\n",
       "      <td>0.0</td>\n",
       "      <td>0.000000</td>\n",
       "      <td>0.000000</td>\n",
       "      <td>697420.0</td>\n",
       "      <td>347960.0</td>\n",
       "      <td>501462.440</td>\n",
       "      <td>61164.559961</td>\n",
       "      <td>513808.724</td>\n",
       "      <td>231492.178</td>\n",
       "      <td>351419.924282</td>\n",
       "      <td>45935.448949</td>\n",
       "    </tr>\n",
       "    <tr>\n",
       "      <th>25</th>\n",
       "      <td>0.000000</td>\n",
       "      <td>0.0</td>\n",
       "      <td>0.000000</td>\n",
       "      <td>0.000000</td>\n",
       "      <td>1057700.0</td>\n",
       "      <td>528600.0</td>\n",
       "      <td>774038.750</td>\n",
       "      <td>88281.680971</td>\n",
       "      <td>967276.709</td>\n",
       "      <td>376841.109</td>\n",
       "      <td>566542.401054</td>\n",
       "      <td>76567.895138</td>\n",
       "    </tr>\n",
       "    <tr>\n",
       "      <th rowspan=\"5\" valign=\"top\">fptas</th>\n",
       "      <th>4</th>\n",
       "      <td>1.000000</td>\n",
       "      <td>0.0</td>\n",
       "      <td>0.024296</td>\n",
       "      <td>0.140808</td>\n",
       "      <td>140.0</td>\n",
       "      <td>32.0</td>\n",
       "      <td>90.024</td>\n",
       "      <td>19.821231</td>\n",
       "      <td>432.444</td>\n",
       "      <td>79.060</td>\n",
       "      <td>127.950296</td>\n",
       "      <td>27.421851</td>\n",
       "    </tr>\n",
       "    <tr>\n",
       "      <th>10</th>\n",
       "      <td>0.078431</td>\n",
       "      <td>0.0</td>\n",
       "      <td>0.001016</td>\n",
       "      <td>0.005343</td>\n",
       "      <td>1990.0</td>\n",
       "      <td>690.0</td>\n",
       "      <td>1310.400</td>\n",
       "      <td>219.635880</td>\n",
       "      <td>1427.778</td>\n",
       "      <td>533.866</td>\n",
       "      <td>957.555138</td>\n",
       "      <td>153.532134</td>\n",
       "    </tr>\n",
       "    <tr>\n",
       "      <th>15</th>\n",
       "      <td>0.008150</td>\n",
       "      <td>0.0</td>\n",
       "      <td>0.000265</td>\n",
       "      <td>0.000996</td>\n",
       "      <td>6165.0</td>\n",
       "      <td>2355.0</td>\n",
       "      <td>4348.380</td>\n",
       "      <td>595.391432</td>\n",
       "      <td>4380.618</td>\n",
       "      <td>1580.609</td>\n",
       "      <td>2888.149710</td>\n",
       "      <td>399.419578</td>\n",
       "    </tr>\n",
       "    <tr>\n",
       "      <th>20</th>\n",
       "      <td>1.000000</td>\n",
       "      <td>0.0</td>\n",
       "      <td>0.002119</td>\n",
       "      <td>0.044719</td>\n",
       "      <td>14320.0</td>\n",
       "      <td>6980.0</td>\n",
       "      <td>10325.800</td>\n",
       "      <td>1223.019343</td>\n",
       "      <td>10733.324</td>\n",
       "      <td>4437.975</td>\n",
       "      <td>6710.800106</td>\n",
       "      <td>838.029579</td>\n",
       "    </tr>\n",
       "    <tr>\n",
       "      <th>25</th>\n",
       "      <td>0.004129</td>\n",
       "      <td>0.0</td>\n",
       "      <td>0.000094</td>\n",
       "      <td>0.000386</td>\n",
       "      <td>28750.0</td>\n",
       "      <td>13100.0</td>\n",
       "      <td>19776.650</td>\n",
       "      <td>2228.779586</td>\n",
       "      <td>20465.911</td>\n",
       "      <td>8226.254</td>\n",
       "      <td>13238.634680</td>\n",
       "      <td>1827.324390</td>\n",
       "    </tr>\n",
       "  </tbody>\n",
       "</table>\n",
       "</div>"
      ],
      "text/plain": [
       "                            ERROR                               STEPS  \\\n",
       "                             amax amin      mean       std       amax   \n",
       "ALGORITHM INSTANCE_SIZE                                                 \n",
       "dp_dp     4              0.000000  0.0  0.000000  0.000000    35872.0   \n",
       "          10             0.000000  0.0  0.000000  0.000000   193340.0   \n",
       "          15             0.000000  0.0  0.000000  0.000000   405210.0   \n",
       "          20             0.000000  0.0  0.000000  0.000000   697420.0   \n",
       "          25             0.000000  0.0  0.000000  0.000000  1057700.0   \n",
       "fptas     4              1.000000  0.0  0.024296  0.140808      140.0   \n",
       "          10             0.078431  0.0  0.001016  0.005343     1990.0   \n",
       "          15             0.008150  0.0  0.000265  0.000996     6165.0   \n",
       "          20             1.000000  0.0  0.002119  0.044719    14320.0   \n",
       "          25             0.004129  0.0  0.000094  0.000386    28750.0   \n",
       "\n",
       "                                                               TIME[ms]  \\\n",
       "                             amin        mean           std        amax   \n",
       "ALGORITHM INSTANCE_SIZE                                                   \n",
       "dp_dp     4                4596.0   20262.608   5712.326794   27447.888   \n",
       "          10              59470.0  124602.940  21693.422180  167603.314   \n",
       "          15             159405.0  279350.820  40020.262973  278103.537   \n",
       "          20             347960.0  501462.440  61164.559961  513808.724   \n",
       "          25             528600.0  774038.750  88281.680971  967276.709   \n",
       "fptas     4                  32.0      90.024     19.821231     432.444   \n",
       "          10                690.0    1310.400    219.635880    1427.778   \n",
       "          15               2355.0    4348.380    595.391432    4380.618   \n",
       "          20               6980.0   10325.800   1223.019343   10733.324   \n",
       "          25              13100.0   19776.650   2228.779586   20465.911   \n",
       "\n",
       "                                                                  \n",
       "                               amin           mean           std  \n",
       "ALGORITHM INSTANCE_SIZE                                           \n",
       "dp_dp     4                3442.997   15170.583108   4410.337713  \n",
       "          10              41983.801   87811.524090  16404.809475  \n",
       "          15             111082.817  189713.137648  27818.620667  \n",
       "          20             231492.178  351419.924282  45935.448949  \n",
       "          25             376841.109  566542.401054  76567.895138  \n",
       "fptas     4                  79.060     127.950296     27.421851  \n",
       "          10                533.866     957.555138    153.532134  \n",
       "          15               1580.609    2888.149710    399.419578  \n",
       "          20               4437.975    6710.800106    838.029579  \n",
       "          25               8226.254   13238.634680   1827.324390  "
      ]
     },
     "metadata": {},
     "output_type": "display_data"
    },
    {
     "name": "stdout",
     "output_type": "stream",
     "text": [
      "====================================================================================================\n"
     ]
    }
   ],
   "source": [
    "display_basic_dataframe_analyse(\n",
    "    df_data=pd.concat([\n",
    "        algorithms_outputs['dp_dp'],\n",
    "        # only outputs wehre ACCURACY_VALUE == 0.4\n",
    "        algorithms_outputs['fptas'].loc[algorithms_outputs['fptas']['ACCURACY_VALUE'] == 0.4]\n",
    "    ])\n",
    ")"
   ]
  },
  {
   "cell_type": "markdown",
   "metadata": {},
   "source": [
    "Ze statistiky je vidět, že **FPTAS** algoritmus je mnohem rychlejší, než jednoduchý **Dynamic Programming** s dekompozici podle ceny.\n",
    "\n",
    "Třeba, pokud koukneme na instanci velikosti **25**, máme průměrný čas *566542.401054 mikrosekund VS 13238.634680 mikorsekund*, což znamená, že **FTPAS** je skoro o 42-krat rychlejší."
   ]
  },
  {
   "cell_type": "markdown",
   "metadata": {},
   "source": [
    "## 4. Grafy: velikost/čas[ms]"
   ]
  },
  {
   "cell_type": "markdown",
   "metadata": {},
   "source": [
    "### 4.1 Branch & Bounds"
   ]
  },
  {
   "cell_type": "code",
   "execution_count": 205,
   "metadata": {},
   "outputs": [
    {
     "data": {
      "text/plain": [
       "Text(0, 0.5, 'Čas v mikrosekundech')"
      ]
     },
     "execution_count": 205,
     "metadata": {},
     "output_type": "execute_result"
    },
    {
     "data": {
      "image/png": "[encoded data removed]",
      "text/plain": [
       "<Figure size 1008x432 with 1 Axes>"
      ]
     },
     "metadata": {
      "needs_background": "light"
     },
     "output_type": "display_data"
    }
   ],
   "source": [
    "ax = algorithms_outputs['bb'].plot.scatter(\n",
    "    x=\"INSTANCE_SIZE\",\n",
    "    y='TIME[ms]',\n",
    "    figsize=(14, 6),\n",
    "    colormap='jet',\n",
    "    title='Branch & Bounds Velikost/Čas[ms]'\n",
    ")\n",
    "\n",
    "ax.set_xlabel(\"Velikost instanci\")\n",
    "ax.set_ylabel(\"Čas v mikrosekundech\")"
   ]
  },
  {
   "cell_type": "markdown",
   "metadata": {},
   "source": [
    "Jak již bylo už několikrát zmíněno dříve, složišť algoritmu je exponenciální. Na scatter grafu je vidět pár outlierů."
   ]
  },
  {
   "cell_type": "markdown",
   "metadata": {},
   "source": [
    "### 4.2 Dynamic programming (decomposition by weight)"
   ]
  },
  {
   "cell_type": "code",
   "execution_count": 208,
   "metadata": {},
   "outputs": [
    {
     "data": {
      "text/plain": [
       "Text(0, 0.5, 'Čas v mikrosekundech')"
      ]
     },
     "execution_count": 208,
     "metadata": {},
     "output_type": "execute_result"
    },
    {
     "data": {
      "image/png": "[encoded data removed]",
      "text/plain": [
       "<Figure size 1008x432 with 1 Axes>"
      ]
     },
     "metadata": {
      "needs_background": "light"
     },
     "output_type": "display_data"
    }
   ],
   "source": [
    "ax = algorithms_outputs['dp_dw'].plot.scatter(\n",
    "    x=\"INSTANCE_SIZE\",\n",
    "    y='TIME[ms]',\n",
    "    figsize=(14, 6),\n",
    "    colormap='jet',\n",
    "    title='Dynamic programming (decomposition by weight) Velikost/Čas[ms]'\n",
    ")\n",
    "\n",
    "ax.set_xlabel(\"Velikost instanci\")\n",
    "ax.set_ylabel(\"Čas v mikrosekundech\")"
   ]
  },
  {
   "cell_type": "markdown",
   "metadata": {},
   "source": [
    "Žádnou závislost na grafu není vidět, neboť jak již bylo zmíněno, závislost je v tomto případě na velikosti(nosnost/maximální váha) batohu."
   ]
  },
  {
   "cell_type": "markdown",
   "metadata": {},
   "source": [
    "### 4.3 Dynamic programming (decomposition by price)"
   ]
  },
  {
   "cell_type": "code",
   "execution_count": 210,
   "metadata": {},
   "outputs": [
    {
     "data": {
      "text/plain": [
       "Text(0, 0.5, 'Čas v mikrosekundech')"
      ]
     },
     "execution_count": 210,
     "metadata": {},
     "output_type": "execute_result"
    },
    {
     "data": {
      "image/png": "[encoded data removed]",
      "text/plain": [
       "<Figure size 1008x432 with 1 Axes>"
      ]
     },
     "metadata": {
      "needs_background": "light"
     },
     "output_type": "display_data"
    }
   ],
   "source": [
    "ax = algorithms_outputs['dp_dp'].plot.scatter(\n",
    "    x=\"INSTANCE_SIZE\",\n",
    "    y='TIME[ms]',\n",
    "    figsize=(14, 6),\n",
    "    colormap='jet',\n",
    "    title='Dynamic programming (decomposition by price) Velikost/Čas[ms]'\n",
    ")\n",
    "\n",
    "ax.set_xlabel(\"Velikost instanci\")\n",
    "ax.set_ylabel(\"Čas v mikrosekundech\")"
   ]
  },
  {
   "cell_type": "markdown",
   "metadata": {},
   "source": [
    "Zase nejde 100% určit závislost z nakresleného grafu, neboť cena není zobrazena na grafu."
   ]
  },
  {
   "cell_type": "markdown",
   "metadata": {},
   "source": [
    "### 4.4 Greedy"
   ]
  },
  {
   "cell_type": "code",
   "execution_count": 212,
   "metadata": {},
   "outputs": [
    {
     "data": {
      "text/plain": [
       "Text(0, 0.5, 'Čas v mikrosekundech')"
      ]
     },
     "execution_count": 212,
     "metadata": {},
     "output_type": "execute_result"
    },
    {
     "data": {
      "image/png": "[encoded data removed]",
      "text/plain": [
       "<Figure size 1008x432 with 1 Axes>"
      ]
     },
     "metadata": {
      "needs_background": "light"
     },
     "output_type": "display_data"
    }
   ],
   "source": [
    "ax = algorithms_outputs['greedy'].plot.scatter(\n",
    "    x=\"INSTANCE_SIZE\",\n",
    "    y='TIME[ms]',\n",
    "    figsize=(14, 6),\n",
    "    colormap='jet',\n",
    "    title='Greedy Velikost/Čas[ms]'\n",
    ")\n",
    "\n",
    "ax.set_xlabel(\"Velikost instanci\")\n",
    "ax.set_ylabel(\"Čas v mikrosekundech\")"
   ]
  },
  {
   "cell_type": "markdown",
   "metadata": {},
   "source": [
    "Z tohoto grafu je 100% vidět, že závislost je lineární."
   ]
  },
  {
   "cell_type": "markdown",
   "metadata": {},
   "source": [
    "### 4.5 Redux"
   ]
  },
  {
   "cell_type": "code",
   "execution_count": 214,
   "metadata": {},
   "outputs": [
    {
     "data": {
      "text/plain": [
       "Text(0, 0.5, 'Čas v mikrosekundech')"
      ]
     },
     "execution_count": 214,
     "metadata": {},
     "output_type": "execute_result"
    },
    {
     "data": {
      "image/png": "[encoded data removed]",
      "text/plain": [
       "<Figure size 1008x432 with 1 Axes>"
      ]
     },
     "metadata": {
      "needs_background": "light"
     },
     "output_type": "display_data"
    }
   ],
   "source": [
    "ax = algorithms_outputs['redux'].plot.scatter(\n",
    "    x=\"INSTANCE_SIZE\",\n",
    "    y='TIME[ms]',\n",
    "    figsize=(14, 6),\n",
    "    colormap='jet',\n",
    "    title='Redux Velikost/Čas[ms]'\n",
    ")\n",
    "\n",
    "ax.set_xlabel(\"Velikost instanci\")\n",
    "ax.set_ylabel(\"Čas v mikrosekundech\")"
   ]
  },
  {
   "cell_type": "markdown",
   "metadata": {},
   "source": [
    "To samé, co i u předchozího **Greedy** algoritmu, závislost je lineární."
   ]
  },
  {
   "cell_type": "markdown",
   "metadata": {},
   "source": [
    "### 4.5 FPTAS"
   ]
  },
  {
   "cell_type": "code",
   "execution_count": 221,
   "metadata": {},
   "outputs": [
    {
     "data": {
      "text/plain": [
       "Text(0, 0.5, 'Čas v mikrosekundech')"
      ]
     },
     "execution_count": 221,
     "metadata": {},
     "output_type": "execute_result"
    },
    {
     "data": {
      "image/png": "[encoded data removed]",
      "text/plain": [
       "<Figure size 1008x432 with 1 Axes>"
      ]
     },
     "metadata": {
      "needs_background": "light"
     },
     "output_type": "display_data"
    }
   ],
   "source": [
    "# only for accuracy=0.4\n",
    "ax = algorithms_outputs['fptas'].loc[algorithms_outputs['fptas']['ACCURACY_VALUE'] == 0.4].plot.scatter(\n",
    "    x=\"INSTANCE_SIZE\",\n",
    "    y='TIME[ms]',\n",
    "    figsize=(14, 6),\n",
    "    colormap='jet',\n",
    "    title='FPTAS Velikost/Čas[ms] ε = 0.4'\n",
    ")\n",
    "\n",
    "ax.set_xlabel(\"Velikost instanci\")\n",
    "ax.set_ylabel(\"Čas v mikrosekundech\")"
   ]
  },
  {
   "cell_type": "markdown",
   "metadata": {},
   "source": [
    "To samé, co i u **Dynamic Programming** s dekompozici podle ceny (neboť je vlastně nadstavba nad tím původním algoritmem)."
   ]
  },
  {
   "cell_type": "markdown",
   "metadata": {},
   "source": [
    "## 5. Grafy: pozorování chyby"
   ]
  },
  {
   "cell_type": "markdown",
   "metadata": {},
   "source": [
    "### 5.1 Greedy & Redux : závislosti relativní chyby na velikosti instance u obou heuristik"
   ]
  },
  {
   "cell_type": "code",
   "execution_count": 236,
   "metadata": {},
   "outputs": [
    {
     "data": {
      "text/plain": [
       "Text(0, 0.5, 'Relativní chyba')"
      ]
     },
     "execution_count": 236,
     "metadata": {},
     "output_type": "execute_result"
    },
    {
     "data": {
      "image/png": "[encoded data removed]",
      "text/plain": [
       "<Figure size 1008x432 with 1 Axes>"
      ]
     },
     "metadata": {
      "needs_background": "light"
     },
     "output_type": "display_data"
    }
   ],
   "source": [
    "ax = algorithms_outputs['greedy'].plot.scatter(\n",
    "    x=\"INSTANCE_SIZE\",\n",
    "    y='ERROR',\n",
    "    figsize=(14, 6),\n",
    "    colormap='jet',\n",
    "    title='Greedy Velikost/chyba'\n",
    ")\n",
    "\n",
    "ax.set_xlabel(\"Velikost instanci\")\n",
    "ax.set_ylabel(\"Relativní chyba\")"
   ]
  },
  {
   "cell_type": "code",
   "execution_count": 235,
   "metadata": {},
   "outputs": [
    {
     "data": {
      "text/plain": [
       "Text(0, 0.5, 'Relativní chyba')"
      ]
     },
     "execution_count": 235,
     "metadata": {},
     "output_type": "execute_result"
    },
    {
     "data": {
      "image/png": "[encoded data removed]",
      "text/plain": [
       "<Figure size 1008x432 with 1 Axes>"
      ]
     },
     "metadata": {
      "needs_background": "light"
     },
     "output_type": "display_data"
    }
   ],
   "source": [
    "ax = algorithms_outputs['redux'].plot.scatter(\n",
    "    x=\"INSTANCE_SIZE\",\n",
    "    y='ERROR',\n",
    "    figsize=(14, 6),\n",
    "    colormap='jet',\n",
    "    title='Redux Velikost/Chyba'\n",
    ")\n",
    "\n",
    "ax.set_xlabel(\"Velikost instanci\")\n",
    "ax.set_ylabel(\"Relativní chyba\")"
   ]
  },
  {
   "cell_type": "markdown",
   "metadata": {},
   "source": [
    "Jediné, co jde říct, a co platí pro obě dvě heruistiky, tak že relativní chyba se zmenšuje pro instanci větší velikosti. To jest, je závislost mezi počtem věci (velikost prostoru) a relativní chybou. Stejne je videt nekolik outlierů."
   ]
  },
  {
   "cell_type": "markdown",
   "metadata": {},
   "source": [
    "### 5.2 FPTAS : závislost chyby a výpočetního času algoritmu na zvolené přesnosti, srovnání maximální naměřené chyby s teoreticky předpokládanou"
   ]
  },
  {
   "cell_type": "code",
   "execution_count": 239,
   "metadata": {},
   "outputs": [
    {
     "name": "stdout",
     "output_type": "stream",
     "text": [
      "===================================  FPTAS Přesnost/chyba ===================================\n"
     ]
    },
    {
     "data": {
      "image/png": "[encoded data removed]",
      "text/plain": [
       "<Figure size 1008x432 with 1 Axes>"
      ]
     },
     "metadata": {
      "needs_background": "light"
     },
     "output_type": "display_data"
    }
   ],
   "source": [
    "print(\"=\"*35, \" FPTAS Přesnost/chyba\", \"=\"*35)\n",
    "ax = algorithms_outputs['fptas'].plot.scatter(\n",
    "    x=\"ACCURACY_VALUE\",\n",
    "    y='ERROR',\n",
    "    figsize=(14, 6),\n",
    "    colormap='jet',\n",
    "    title='FPTAS Přesnost/Chyba'\n",
    ")"
   ]
  },
  {
   "cell_type": "markdown",
   "metadata": {},
   "source": [
    "Při rostoucí přesností **ε**, taky narůstá velikost relativní chyby."
   ]
  },
  {
   "cell_type": "code",
   "execution_count": 234,
   "metadata": {},
   "outputs": [
    {
     "name": "stdout",
     "output_type": "stream",
     "text": [
      "===================================  FPTAS Velikost/chyba, pro ε = 0.1, 0.4, 0.7 ===================================\n"
     ]
    },
    {
     "data": {
      "text/plain": [
       "Text(0, 0.5, 'Relativní chyba')"
      ]
     },
     "execution_count": 234,
     "metadata": {},
     "output_type": "execute_result"
    },
    {
     "data": {
      "image/png": "[encoded data removed]",
      "text/plain": [
       "<Figure size 1008x432 with 1 Axes>"
      ]
     },
     "metadata": {
      "needs_background": "light"
     },
     "output_type": "display_data"
    },
    {
     "data": {
      "image/png": "[encoded data removed]",
      "text/plain": [
       "<Figure size 1008x432 with 1 Axes>"
      ]
     },
     "metadata": {
      "needs_background": "light"
     },
     "output_type": "display_data"
    },
    {
     "data": {
      "image/png": "[encoded data removed]",
      "text/plain": [
       "<Figure size 1008x432 with 1 Axes>"
      ]
     },
     "metadata": {
      "needs_background": "light"
     },
     "output_type": "display_data"
    }
   ],
   "source": [
    "print(\"=\"*35, \" FPTAS Velikost/chyba, pro ε = 0.1, 0.4, 0.7\", \"=\"*35)\n",
    "\n",
    "# ε=0.1\n",
    "ax = algorithms_outputs['fptas'].loc[algorithms_outputs['fptas']['ACCURACY_VALUE'] == 0.1].plot.scatter(\n",
    "    x=\"INSTANCE_SIZE\",\n",
    "    y='ERROR',\n",
    "    figsize=(14, 6),\n",
    "    colormap='jet',\n",
    "    title='FPTAS Velikost/Čas[ms] ε = 0.1'\n",
    ")\n",
    "\n",
    "ax.set_xlabel(\"Velikost instanci\")\n",
    "ax.set_ylabel(\"Relativní chyba\")\n",
    "\n",
    "\n",
    "# ε=0.4\n",
    "ax = algorithms_outputs['fptas'].loc[algorithms_outputs['fptas']['ACCURACY_VALUE'] == 0.4].plot.scatter(\n",
    "    x=\"INSTANCE_SIZE\",\n",
    "    y='ERROR',\n",
    "    figsize=(14, 6),\n",
    "    colormap='jet',\n",
    "    title='FPTAS Velikost/Čas[ms] ε = 0.4'\n",
    ")\n",
    "\n",
    "ax.set_xlabel(\"Velikost instanci\")\n",
    "ax.set_ylabel(\"Relativní chyba\")\n",
    "\n",
    "\n",
    "# ε=0.7\n",
    "ax = algorithms_outputs['fptas'].loc[algorithms_outputs['fptas']['ACCURACY_VALUE'] == 0.7].plot.scatter(\n",
    "    x=\"INSTANCE_SIZE\",\n",
    "    y='ERROR',\n",
    "    figsize=(14, 6),\n",
    "    colormap='jet',\n",
    "    title='FPTAS Velikost/Čas[ms] ε = 0.7'\n",
    ")\n",
    "\n",
    "ax.set_xlabel(\"Velikost instanci\")\n",
    "ax.set_ylabel(\"Relativní chyba\")"
   ]
  },
  {
   "cell_type": "markdown",
   "metadata": {},
   "source": [
    "Pro každou zvolenou přesnost je vidět zavilost mezi velikost relativní chyby a velikosti instanci. Čím větší velikost instanci, tím menší je relativní chyba."
   ]
  },
  {
   "cell_type": "code",
   "execution_count": 258,
   "metadata": {},
   "outputs": [
    {
     "data": {
      "image/png": "[encoded data removed]",
      "text/plain": [
       "<Figure size 1008x432 with 1 Axes>"
      ]
     },
     "metadata": {
      "needs_background": "light"
     },
     "output_type": "display_data"
    }
   ],
   "source": [
    "x = np.array([\n",
    "    0.1, 0.4, 0.7\n",
    "])\n",
    "y = np.array([\n",
    "    algorithms_outputs['fptas'].loc[algorithms_outputs['fptas']['ACCURACY_VALUE'] == 0.1]['ERROR'].max(),\n",
    "    algorithms_outputs['fptas'].loc[algorithms_outputs['fptas']['ACCURACY_VALUE'] == 0.4]['ERROR'].max(),\n",
    "    algorithms_outputs['fptas'].loc[algorithms_outputs['fptas']['ACCURACY_VALUE'] == 0.7]['ERROR'].max(),\n",
    "])\n",
    "\n",
    "plt.scatter(x, y)\n",
    "plt.title(\"Srovnání maximální naměřené chyby s teoreticky předpokládanou\")\n",
    "plt.xlabel(\"Přesnost (Teoretická chyba)\")\n",
    "plt.ylabel(\"Relativní chyba\")\n",
    "plt.gcf().set_size_inches((14, 6))   \n",
    "plt.show()"
   ]
  },
  {
   "cell_type": "markdown",
   "metadata": {},
   "source": [
    "Pro každou z nastavených přesností, velikost relativní chyba je větší, než prenost(/teoretická chyba). To je spíš kluli přítomnosti outlierů v datech. Proto zkusíme ještě vyčistit data od outlierů."
   ]
  },
  {
   "cell_type": "code",
   "execution_count": 257,
   "metadata": {},
   "outputs": [
    {
     "data": {
      "image/png": "[encoded data removed]",
      "text/plain": [
       "<Figure size 1008x432 with 1 Axes>"
      ]
     },
     "metadata": {
      "needs_background": "light"
     },
     "output_type": "display_data"
    }
   ],
   "source": [
    "filtered_out_outliers_fptas = algorithms_outputs['fptas'][algorithms_outputs['fptas']['ERROR'] < 0.95]\n",
    "\n",
    "x = np.array([\n",
    "    0.1, 0.4, 0.7\n",
    "])\n",
    "y = np.array([\n",
    "    filtered_out_outliers_fptas.loc[filtered_out_outliers_fptas['ACCURACY_VALUE'] == 0.1]['ERROR'].max(),\n",
    "    filtered_out_outliers_fptas.loc[filtered_out_outliers_fptas['ACCURACY_VALUE'] == 0.4]['ERROR'].max(),\n",
    "    filtered_out_outliers_fptas.loc[filtered_out_outliers_fptas['ACCURACY_VALUE'] == 0.7]['ERROR'].max(),\n",
    "])\n",
    "\n",
    "plt.scatter(x, y)\n",
    "plt.title(\"Srovnání maximální naměřené chyby s teoreticky předpokládanou (bez outlierů)\")\n",
    "plt.xlabel(\"Přesnost (Teoretická chyba)\")\n",
    "plt.ylabel(\"Relativní chyba\")\n",
    "plt.gcf().set_size_inches((14, 6))   \n",
    "plt.show()"
   ]
  },
  {
   "cell_type": "markdown",
   "metadata": {},
   "source": [
    "Po vyčištění outlieru je vidět, že maximální relativní chyba nikdy nepřesahuje přesnost(/teoretickou chybu)."
   ]
  },
  {
   "cell_type": "markdown",
   "metadata": {},
   "source": [
    "## 6. Závěr"
   ]
  },
  {
   "cell_type": "markdown",
   "metadata": {},
   "source": [
    "Během této práci bylo implementováno spoustu nových algoritmu a prozkoumáno nových přístupu k řešení problémů bathou. Taky jsem seznámil s pojemem relativní chyby u heruistickych algoritmu. Stejně tak jsem se naučil takovým optimalizačním trikům, jak **Redux** nadstavba nad jednoduchým **Greedy** algoritmem, která docela silné znizuje relativní chybu, a **FPTAS** nadstavba nad **Dynamic Programming**, která docela zrychluje původní algorimus, ale s tím přináší relativní chybu.\n",
    "\n",
    "**Dynamic Programming** s dekompozici podle váhy a **Branch & Bounds** se ukázaly jako nejrychlejší algoritmy, které navíc vždy dokážou získat optimální nejlepší řešení."
   ]
  }
 ],
 "metadata": {
  "kernelspec": {
   "display_name": "Python 3",
   "language": "python",
   "name": "python3"
  },
  "language_info": {
   "codemirror_mode": {
    "name": "ipython",
    "version": 3
   },
   "file_extension": ".py",
   "mimetype": "text/x-python",
   "name": "python",
   "nbconvert_exporter": "python",
   "pygments_lexer": "ipython3",
   "version": "3.9.5"
  }
 },
 "nbformat": 4,
 "nbformat_minor": 4
}
